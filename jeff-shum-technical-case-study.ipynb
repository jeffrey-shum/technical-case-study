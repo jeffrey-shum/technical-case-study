{
 "cells": [
  {
   "cell_type": "markdown",
   "metadata": {},
   "source": [
    "# Jeff Shum - Technical Case Study - 2020 Churn Analysis"
   ]
  },
  {
   "cell_type": "code",
   "execution_count": 1,
   "metadata": {},
   "outputs": [],
   "source": [
    "import os\n",
    "import pandas as pd\n",
    "import altair as alt\n",
    "import datetime\n",
    "fm = pd.read_csv(os.path.join('test-datasets', 'financial_movements.csv'), parse_dates=['financial_movement_date'])\n",
    "pu = pd.read_csv(os.path.join('test-datasets', 'product_usage.csv'), parse_dates=['date'])\n",
    "csm = pd.read_csv(os.path.join('test-datasets', 'csm_contacts.csv'), parse_dates=['csm_contact_date'])\n",
    "nps = pd.read_csv(os.path.join('test-datasets', 'nps_answers.csv'), parse_dates=['nps_date'])"
   ]
  },
  {
   "cell_type": "code",
   "execution_count": 2,
   "metadata": {},
   "outputs": [],
   "source": [
    "churns = fm[fm.movement_type == 'churn']\n",
    "churns_monthly = churns.resample('M', on='financial_movement_date').count()\n",
    "churns_monthly['month'] = churns_monthly.index.strftime('%Y %b')\n",
    "churns_chart = alt.Chart(churns_monthly['2020']).mark_line(color='maroon').encode(\n",
    "    x=alt.X('month(month):T', axis=alt.Axis(title='2020')),\n",
    "    y=alt.Y('movement_type', axis=alt.Axis(title='Number of Churns Each Month (Lower = Better)'))\n",
    ").properties(width=400,height=400)\n",
    "churns_sum = churns.resample('M', on='financial_movement_date').sum()\n",
    "churns_sum['month'] = churns_sum.index.strftime('%Y %b')\n",
    "churns_sum['abs_val'] = churns_sum.mrr.abs()\n",
    "churns_sum['2020']\n",
    "churns_sum_chart = alt.Chart(churns_sum['2020']).mark_area(color='maroon').encode(\n",
    "    x=alt.X('month(month):T', axis=alt.Axis(title='2020')),\n",
    "    y=alt.Y('abs_val:Q', axis=alt.Axis(title='Total Churn Negative MRR Per Month (Lower = Better)'))\n",
    ").properties(width=400,height=400)"
   ]
  },
  {
   "cell_type": "markdown",
   "metadata": {},
   "source": [
    "# Churn"
   ]
  },
  {
   "cell_type": "code",
   "execution_count": 3,
   "metadata": {},
   "outputs": [
    {
     "data": {
      "text/html": [
       "\n",
       "<div id=\"altair-viz-d968e4f8e5524180b8d02ce593c5f849\"></div>\n",
       "<script type=\"text/javascript\">\n",
       "  (function(spec, embedOpt){\n",
       "    let outputDiv = document.currentScript.previousElementSibling;\n",
       "    if (outputDiv.id !== \"altair-viz-d968e4f8e5524180b8d02ce593c5f849\") {\n",
       "      outputDiv = document.getElementById(\"altair-viz-d968e4f8e5524180b8d02ce593c5f849\");\n",
       "    }\n",
       "    const paths = {\n",
       "      \"vega\": \"https://cdn.jsdelivr.net/npm//vega@5?noext\",\n",
       "      \"vega-lib\": \"https://cdn.jsdelivr.net/npm//vega-lib?noext\",\n",
       "      \"vega-lite\": \"https://cdn.jsdelivr.net/npm//vega-lite@4.8.1?noext\",\n",
       "      \"vega-embed\": \"https://cdn.jsdelivr.net/npm//vega-embed@6?noext\",\n",
       "    };\n",
       "\n",
       "    function loadScript(lib) {\n",
       "      return new Promise(function(resolve, reject) {\n",
       "        var s = document.createElement('script');\n",
       "        s.src = paths[lib];\n",
       "        s.async = true;\n",
       "        s.onload = () => resolve(paths[lib]);\n",
       "        s.onerror = () => reject(`Error loading script: ${paths[lib]}`);\n",
       "        document.getElementsByTagName(\"head\")[0].appendChild(s);\n",
       "      });\n",
       "    }\n",
       "\n",
       "    function showError(err) {\n",
       "      outputDiv.innerHTML = `<div class=\"error\" style=\"color:red;\">${err}</div>`;\n",
       "      throw err;\n",
       "    }\n",
       "\n",
       "    function displayChart(vegaEmbed) {\n",
       "      vegaEmbed(outputDiv, spec, embedOpt)\n",
       "        .catch(err => showError(`Javascript Error: ${err.message}<br>This usually means there's a typo in your chart specification. See the javascript console for the full traceback.`));\n",
       "    }\n",
       "\n",
       "    if(typeof define === \"function\" && define.amd) {\n",
       "      requirejs.config({paths});\n",
       "      require([\"vega-embed\"], displayChart, err => showError(`Error loading script: ${err.message}`));\n",
       "    } else if (typeof vegaEmbed === \"function\") {\n",
       "      displayChart(vegaEmbed);\n",
       "    } else {\n",
       "      loadScript(\"vega\")\n",
       "        .then(() => loadScript(\"vega-lite\"))\n",
       "        .then(() => loadScript(\"vega-embed\"))\n",
       "        .catch(showError)\n",
       "        .then(() => displayChart(vegaEmbed));\n",
       "    }\n",
       "  })({\"config\": {\"view\": {\"continuousWidth\": 400, \"continuousHeight\": 300}}, \"hconcat\": [{\"data\": {\"name\": \"data-b7aebd727830cba865e14b6a60df7ae8\"}, \"mark\": {\"type\": \"line\", \"color\": \"maroon\"}, \"encoding\": {\"x\": {\"type\": \"temporal\", \"axis\": {\"title\": \"2020\"}, \"field\": \"month\", \"timeUnit\": \"month\"}, \"y\": {\"type\": \"quantitative\", \"axis\": {\"title\": \"Number of Churns Each Month (Lower = Better)\"}, \"field\": \"movement_type\"}}, \"height\": 400, \"width\": 400}, {\"data\": {\"name\": \"data-e6144f1a52afaf26baf62b685be7b7ad\"}, \"mark\": {\"type\": \"area\", \"color\": \"maroon\"}, \"encoding\": {\"x\": {\"type\": \"temporal\", \"axis\": {\"title\": \"2020\"}, \"field\": \"month\", \"timeUnit\": \"month\"}, \"y\": {\"type\": \"quantitative\", \"axis\": {\"title\": \"Total Churn Negative MRR Per Month (Lower = Better)\"}, \"field\": \"abs_val\"}}, \"height\": 400, \"width\": 400}], \"$schema\": \"https://vega.github.io/schema/vega-lite/v4.8.1.json\", \"datasets\": {\"data-b7aebd727830cba865e14b6a60df7ae8\": [{\"organization_id\": 52, \"movement_type\": 52, \"financial_movement_date\": 52, \"mrr\": 52, \"month\": \"2020 Jan\"}, {\"organization_id\": 46, \"movement_type\": 46, \"financial_movement_date\": 46, \"mrr\": 46, \"month\": \"2020 Feb\"}, {\"organization_id\": 59, \"movement_type\": 59, \"financial_movement_date\": 59, \"mrr\": 59, \"month\": \"2020 Mar\"}, {\"organization_id\": 72, \"movement_type\": 72, \"financial_movement_date\": 72, \"mrr\": 72, \"month\": \"2020 Apr\"}, {\"organization_id\": 67, \"movement_type\": 67, \"financial_movement_date\": 67, \"mrr\": 67, \"month\": \"2020 May\"}, {\"organization_id\": 64, \"movement_type\": 64, \"financial_movement_date\": 64, \"mrr\": 64, \"month\": \"2020 Jun\"}, {\"organization_id\": 75, \"movement_type\": 75, \"financial_movement_date\": 75, \"mrr\": 75, \"month\": \"2020 Jul\"}, {\"organization_id\": 85, \"movement_type\": 85, \"financial_movement_date\": 85, \"mrr\": 85, \"month\": \"2020 Aug\"}, {\"organization_id\": 68, \"movement_type\": 68, \"financial_movement_date\": 68, \"mrr\": 68, \"month\": \"2020 Sep\"}, {\"organization_id\": 64, \"movement_type\": 64, \"financial_movement_date\": 64, \"mrr\": 64, \"month\": \"2020 Oct\"}, {\"organization_id\": 75, \"movement_type\": 75, \"financial_movement_date\": 75, \"mrr\": 75, \"month\": \"2020 Nov\"}, {\"organization_id\": 60, \"movement_type\": 60, \"financial_movement_date\": 60, \"mrr\": 60, \"month\": \"2020 Dec\"}], \"data-e6144f1a52afaf26baf62b685be7b7ad\": [{\"mrr\": -9407.82, \"month\": \"2020 Jan\", \"abs_val\": 9407.82}, {\"mrr\": -5708.9800000000005, \"month\": \"2020 Feb\", \"abs_val\": 5708.9800000000005}, {\"mrr\": -4295.99, \"month\": \"2020 Mar\", \"abs_val\": 4295.99}, {\"mrr\": -11222.809999999998, \"month\": \"2020 Apr\", \"abs_val\": 11222.809999999998}, {\"mrr\": -7048.749999999999, \"month\": \"2020 May\", \"abs_val\": 7048.749999999999}, {\"mrr\": -3601.2, \"month\": \"2020 Jun\", \"abs_val\": 3601.2}, {\"mrr\": -6056.6, \"month\": \"2020 Jul\", \"abs_val\": 6056.6}, {\"mrr\": -8602.349999999999, \"month\": \"2020 Aug\", \"abs_val\": 8602.349999999999}, {\"mrr\": -7734.28, \"month\": \"2020 Sep\", \"abs_val\": 7734.28}, {\"mrr\": -6043.630000000001, \"month\": \"2020 Oct\", \"abs_val\": 6043.630000000001}, {\"mrr\": -5969.56, \"month\": \"2020 Nov\", \"abs_val\": 5969.56}, {\"mrr\": -16918.67, \"month\": \"2020 Dec\", \"abs_val\": 16918.67}]}}, {\"mode\": \"vega-lite\"});\n",
       "</script>"
      ],
      "text/plain": [
       "alt.HConcatChart(...)"
      ]
     },
     "execution_count": 3,
     "metadata": {},
     "output_type": "execute_result"
    }
   ],
   "source": [
    "churns_chart | churns_sum_chart"
   ]
  },
  {
   "cell_type": "markdown",
   "metadata": {},
   "source": [
    "* we can see that number of churns per month was lowest in Feb. 2020 but the year ended with more monthly churns that it began with\n",
    "* the revenue lost from those churns fluctuated for most of 2020 but met a sharp increase in Dec. 2020"
   ]
  },
  {
   "cell_type": "code",
   "execution_count": 4,
   "metadata": {},
   "outputs": [],
   "source": [
    "nps_avg = nps.resample('M', on='nps_date').mean()\n",
    "nps_avg['month'] = nps_avg.index.strftime('%Y %b')\n",
    "net_promoter_scores_2020 = alt.Chart(nps_avg['2020']).mark_line().encode(\n",
    "    x=alt.X('month(month):T', axis=alt.Axis(title='2020')),\n",
    "    y=alt.Y('nps_answer', axis=alt.Axis(title='Average NPS Score'))\n",
    ").properties(width=600,height=400)"
   ]
  },
  {
   "cell_type": "markdown",
   "metadata": {},
   "source": [
    "# Net Promoter Scores Across 2020"
   ]
  },
  {
   "cell_type": "code",
   "execution_count": 5,
   "metadata": {},
   "outputs": [
    {
     "data": {
      "text/html": [
       "\n",
       "<div id=\"altair-viz-a34a88fdbbaa43fd86c2a9f157ec618d\"></div>\n",
       "<script type=\"text/javascript\">\n",
       "  (function(spec, embedOpt){\n",
       "    let outputDiv = document.currentScript.previousElementSibling;\n",
       "    if (outputDiv.id !== \"altair-viz-a34a88fdbbaa43fd86c2a9f157ec618d\") {\n",
       "      outputDiv = document.getElementById(\"altair-viz-a34a88fdbbaa43fd86c2a9f157ec618d\");\n",
       "    }\n",
       "    const paths = {\n",
       "      \"vega\": \"https://cdn.jsdelivr.net/npm//vega@5?noext\",\n",
       "      \"vega-lib\": \"https://cdn.jsdelivr.net/npm//vega-lib?noext\",\n",
       "      \"vega-lite\": \"https://cdn.jsdelivr.net/npm//vega-lite@4.8.1?noext\",\n",
       "      \"vega-embed\": \"https://cdn.jsdelivr.net/npm//vega-embed@6?noext\",\n",
       "    };\n",
       "\n",
       "    function loadScript(lib) {\n",
       "      return new Promise(function(resolve, reject) {\n",
       "        var s = document.createElement('script');\n",
       "        s.src = paths[lib];\n",
       "        s.async = true;\n",
       "        s.onload = () => resolve(paths[lib]);\n",
       "        s.onerror = () => reject(`Error loading script: ${paths[lib]}`);\n",
       "        document.getElementsByTagName(\"head\")[0].appendChild(s);\n",
       "      });\n",
       "    }\n",
       "\n",
       "    function showError(err) {\n",
       "      outputDiv.innerHTML = `<div class=\"error\" style=\"color:red;\">${err}</div>`;\n",
       "      throw err;\n",
       "    }\n",
       "\n",
       "    function displayChart(vegaEmbed) {\n",
       "      vegaEmbed(outputDiv, spec, embedOpt)\n",
       "        .catch(err => showError(`Javascript Error: ${err.message}<br>This usually means there's a typo in your chart specification. See the javascript console for the full traceback.`));\n",
       "    }\n",
       "\n",
       "    if(typeof define === \"function\" && define.amd) {\n",
       "      requirejs.config({paths});\n",
       "      require([\"vega-embed\"], displayChart, err => showError(`Error loading script: ${err.message}`));\n",
       "    } else if (typeof vegaEmbed === \"function\") {\n",
       "      displayChart(vegaEmbed);\n",
       "    } else {\n",
       "      loadScript(\"vega\")\n",
       "        .then(() => loadScript(\"vega-lite\"))\n",
       "        .then(() => loadScript(\"vega-embed\"))\n",
       "        .catch(showError)\n",
       "        .then(() => displayChart(vegaEmbed));\n",
       "    }\n",
       "  })({\"config\": {\"view\": {\"continuousWidth\": 400, \"continuousHeight\": 300}}, \"data\": {\"name\": \"data-cc97bac0a875d6b579150438988b440d\"}, \"mark\": \"line\", \"encoding\": {\"x\": {\"type\": \"temporal\", \"axis\": {\"title\": \"2020\"}, \"field\": \"month\", \"timeUnit\": \"month\"}, \"y\": {\"type\": \"quantitative\", \"axis\": {\"title\": \"Average NPS Score\"}, \"field\": \"nps_answer\"}}, \"height\": 400, \"width\": 600, \"$schema\": \"https://vega.github.io/schema/vega-lite/v4.8.1.json\", \"datasets\": {\"data-cc97bac0a875d6b579150438988b440d\": [{\"nps_answer\": 8.147540983606557, \"month\": \"2020 Jan\"}, {\"nps_answer\": 8.255913978494624, \"month\": \"2020 Feb\"}, {\"nps_answer\": 8.425242718446603, \"month\": \"2020 Mar\"}, {\"nps_answer\": 8.31390134529148, \"month\": \"2020 Apr\"}, {\"nps_answer\": 8.034, \"month\": \"2020 May\"}, {\"nps_answer\": 8.308612440191387, \"month\": \"2020 Jun\"}, {\"nps_answer\": 8.50506329113924, \"month\": \"2020 Jul\"}, {\"nps_answer\": 8.558168316831683, \"month\": \"2020 Aug\"}, {\"nps_answer\": 8.425742574257425, \"month\": \"2020 Sep\"}, {\"nps_answer\": 8.525773195876289, \"month\": \"2020 Oct\"}, {\"nps_answer\": 8.615483870967742, \"month\": \"2020 Nov\"}, {\"nps_answer\": 8.530211480362539, \"month\": \"2020 Dec\"}]}}, {\"mode\": \"vega-lite\"});\n",
       "</script>"
      ],
      "text/plain": [
       "alt.Chart(...)"
      ]
     },
     "execution_count": 5,
     "metadata": {},
     "output_type": "execute_result"
    }
   ],
   "source": [
    "net_promoter_scores_2020"
   ]
  },
  {
   "cell_type": "markdown",
   "metadata": {},
   "source": [
    "* The average net promoter scores stayed stable throughout the year even while churn was higher than expected\n",
    "* It could be wise to investigate if there are ways the net promoter score questionnaire could be more reflective of the value that users are getting from the product"
   ]
  },
  {
   "cell_type": "code",
   "execution_count": 6,
   "metadata": {},
   "outputs": [],
   "source": [
    "pu_avg = pu.resample('M', on='date').mean()\n",
    "pu_avg['month'] = pu_avg.index.strftime('%Y %b')\n",
    "ccr = alt.Chart(pu_avg['2020']).mark_line().encode(\n",
    "    x=alt.X('month(month):T', axis=alt.Axis(title='2020')),\n",
    "    y=alt.Y('cards_created', axis=alt.Axis(title='Average Cards Created Per Organization Each Month'))\n",
    ")\n",
    "em = alt.Chart(pu_avg['2020']).mark_line().encode(\n",
    "    x=alt.X('month(month):T', axis=alt.Axis(title='2020')),\n",
    "    y=alt.Y('email_templates_sent', axis=alt.Axis(title='Average Email Templates Sent Per Organization Each Month'))\n",
    ")\n",
    "cf = alt.Chart(pu_avg['2020']).mark_line().encode(\n",
    "    x=alt.X('month(month):T', axis=alt.Axis(title='2020')),\n",
    "    y=alt.Y('cards_finished', axis=alt.Axis(title='Average Cards Finished Per Organization Each Month'))\n",
    ")\n",
    "cco = alt.Chart(pu_avg['2020']).mark_line().encode(\n",
    "    x=alt.X('month(month):T', axis=alt.Axis(title='2020')),\n",
    "    y=alt.Y('cards_connected', axis=alt.Axis(title='Average Cards Connected Per Organization Each Month'))\n",
    ")"
   ]
  },
  {
   "cell_type": "markdown",
   "metadata": {},
   "source": [
    "# Product Usage"
   ]
  },
  {
   "cell_type": "code",
   "execution_count": 7,
   "metadata": {
    "scrolled": false
   },
   "outputs": [
    {
     "data": {
      "text/html": [
       "\n",
       "<div id=\"altair-viz-395a63bfc159492ca390b22f7ef05e79\"></div>\n",
       "<script type=\"text/javascript\">\n",
       "  (function(spec, embedOpt){\n",
       "    let outputDiv = document.currentScript.previousElementSibling;\n",
       "    if (outputDiv.id !== \"altair-viz-395a63bfc159492ca390b22f7ef05e79\") {\n",
       "      outputDiv = document.getElementById(\"altair-viz-395a63bfc159492ca390b22f7ef05e79\");\n",
       "    }\n",
       "    const paths = {\n",
       "      \"vega\": \"https://cdn.jsdelivr.net/npm//vega@5?noext\",\n",
       "      \"vega-lib\": \"https://cdn.jsdelivr.net/npm//vega-lib?noext\",\n",
       "      \"vega-lite\": \"https://cdn.jsdelivr.net/npm//vega-lite@4.8.1?noext\",\n",
       "      \"vega-embed\": \"https://cdn.jsdelivr.net/npm//vega-embed@6?noext\",\n",
       "    };\n",
       "\n",
       "    function loadScript(lib) {\n",
       "      return new Promise(function(resolve, reject) {\n",
       "        var s = document.createElement('script');\n",
       "        s.src = paths[lib];\n",
       "        s.async = true;\n",
       "        s.onload = () => resolve(paths[lib]);\n",
       "        s.onerror = () => reject(`Error loading script: ${paths[lib]}`);\n",
       "        document.getElementsByTagName(\"head\")[0].appendChild(s);\n",
       "      });\n",
       "    }\n",
       "\n",
       "    function showError(err) {\n",
       "      outputDiv.innerHTML = `<div class=\"error\" style=\"color:red;\">${err}</div>`;\n",
       "      throw err;\n",
       "    }\n",
       "\n",
       "    function displayChart(vegaEmbed) {\n",
       "      vegaEmbed(outputDiv, spec, embedOpt)\n",
       "        .catch(err => showError(`Javascript Error: ${err.message}<br>This usually means there's a typo in your chart specification. See the javascript console for the full traceback.`));\n",
       "    }\n",
       "\n",
       "    if(typeof define === \"function\" && define.amd) {\n",
       "      requirejs.config({paths});\n",
       "      require([\"vega-embed\"], displayChart, err => showError(`Error loading script: ${err.message}`));\n",
       "    } else if (typeof vegaEmbed === \"function\") {\n",
       "      displayChart(vegaEmbed);\n",
       "    } else {\n",
       "      loadScript(\"vega\")\n",
       "        .then(() => loadScript(\"vega-lite\"))\n",
       "        .then(() => loadScript(\"vega-embed\"))\n",
       "        .catch(showError)\n",
       "        .then(() => displayChart(vegaEmbed));\n",
       "    }\n",
       "  })({\"config\": {\"view\": {\"continuousWidth\": 400, \"continuousHeight\": 300}}, \"vconcat\": [{\"hconcat\": [{\"data\": {\"name\": \"data-98a32cdf05c0b371d427ceab381501e6\"}, \"mark\": \"line\", \"encoding\": {\"x\": {\"type\": \"temporal\", \"axis\": {\"title\": \"2020\"}, \"field\": \"month\", \"timeUnit\": \"month\"}, \"y\": {\"type\": \"quantitative\", \"axis\": {\"title\": \"Average Cards Created Per Organization Each Month\"}, \"field\": \"cards_created\"}}}, {\"data\": {\"name\": \"data-98a32cdf05c0b371d427ceab381501e6\"}, \"mark\": \"line\", \"encoding\": {\"x\": {\"type\": \"temporal\", \"axis\": {\"title\": \"2020\"}, \"field\": \"month\", \"timeUnit\": \"month\"}, \"y\": {\"type\": \"quantitative\", \"axis\": {\"title\": \"Average Cards Connected Per Organization Each Month\"}, \"field\": \"cards_connected\"}}}]}, {\"hconcat\": [{\"data\": {\"name\": \"data-98a32cdf05c0b371d427ceab381501e6\"}, \"mark\": \"line\", \"encoding\": {\"x\": {\"type\": \"temporal\", \"axis\": {\"title\": \"2020\"}, \"field\": \"month\", \"timeUnit\": \"month\"}, \"y\": {\"type\": \"quantitative\", \"axis\": {\"title\": \"Average Cards Finished Per Organization Each Month\"}, \"field\": \"cards_finished\"}}}, {\"data\": {\"name\": \"data-98a32cdf05c0b371d427ceab381501e6\"}, \"mark\": \"line\", \"encoding\": {\"x\": {\"type\": \"temporal\", \"axis\": {\"title\": \"2020\"}, \"field\": \"month\", \"timeUnit\": \"month\"}, \"y\": {\"type\": \"quantitative\", \"axis\": {\"title\": \"Average Email Templates Sent Per Organization Each Month\"}, \"field\": \"email_templates_sent\"}}}]}], \"$schema\": \"https://vega.github.io/schema/vega-lite/v4.8.1.json\", \"datasets\": {\"data-98a32cdf05c0b371d427ceab381501e6\": [{\"cards_created\": 33.81763109971383, \"cards_finished\": 36.676881282260254, \"cards_connected\": 99.29485645933015, \"automation_jobs\": 2223.741866849691, \"email_templates_sent\": 45.62281929284448, \"month\": \"2020 Jan\"}, {\"cards_created\": 31.95816196814477, \"cards_finished\": 32.333894897016464, \"cards_connected\": 242.9201438848921, \"automation_jobs\": 2062.0907159986295, \"email_templates_sent\": 43.173929700220285, \"month\": \"2020 Feb\"}, {\"cards_created\": 36.18387816988237, \"cards_finished\": 35.898946782350485, \"cards_connected\": 243.53384892467423, \"automation_jobs\": 2365.6463256617512, \"email_templates_sent\": 43.96959798994975, \"month\": \"2020 Mar\"}, {\"cards_created\": 47.948661133435984, \"cards_finished\": 34.59108464757, \"cards_connected\": 247.1289323164919, \"automation_jobs\": 2624.22824312855, \"email_templates_sent\": 37.06524836166778, \"month\": \"2020 Apr\"}, {\"cards_created\": 54.48079349502313, \"cards_finished\": 43.30105354307981, \"cards_connected\": 118.99228054697839, \"automation_jobs\": 2278.8039534743566, \"email_templates_sent\": 42.16712208021155, \"month\": \"2020 May\"}, {\"cards_created\": 39.73695559839253, \"cards_finished\": 35.49507119386637, \"cards_connected\": 100.44103519262818, \"automation_jobs\": 1994.1954181617443, \"email_templates_sent\": 45.965652374366066, \"month\": \"2020 Jun\"}, {\"cards_created\": 41.79916527055227, \"cards_finished\": 34.2522549164572, \"cards_connected\": 74.32179522122286, \"automation_jobs\": 2050.379620429253, \"email_templates_sent\": 41.48146317350469, \"month\": \"2020 Jul\"}, {\"cards_created\": 51.65393759722915, \"cards_finished\": 43.63272407604117, \"cards_connected\": 93.5005501558775, \"automation_jobs\": 1739.4541469829055, \"email_templates_sent\": 42.46896405621072, \"month\": \"2020 Aug\"}, {\"cards_created\": 47.02913860122845, \"cards_finished\": 46.683464396508185, \"cards_connected\": 72.86230975828111, \"automation_jobs\": 1891.5854391733208, \"email_templates_sent\": 47.329117367061066, \"month\": \"2020 Sep\"}, {\"cards_created\": 44.13830548926014, \"cards_finished\": 51.52624589361851, \"cards_connected\": 83.33620763990687, \"automation_jobs\": 2215.991611108658, \"email_templates_sent\": 47.7406738450851, \"month\": \"2020 Oct\"}, {\"cards_created\": 43.54950479963431, \"cards_finished\": 52.29448938321537, \"cards_connected\": 80.22698412698412, \"automation_jobs\": 1566.5234059199374, \"email_templates_sent\": 52.247312583432866, \"month\": \"2020 Nov\"}, {\"cards_created\": 45.46877393997935, \"cards_finished\": 58.46637593739811, \"cards_connected\": 98.61500140990695, \"automation_jobs\": 1620.3237228343714, \"email_templates_sent\": 56.35147545919904, \"month\": \"2020 Dec\"}]}}, {\"mode\": \"vega-lite\"});\n",
       "</script>"
      ],
      "text/plain": [
       "alt.VConcatChart(...)"
      ]
     },
     "execution_count": 7,
     "metadata": {},
     "output_type": "execute_result"
    }
   ],
   "source": [
    "(ccr | cco) & (cf | em)"
   ]
  },
  {
   "cell_type": "markdown",
   "metadata": {},
   "source": [
    "* For 3 out of the 4 product usage features, in 2020 users generally began to use them more than at the start of the year\n",
    "* However, in May 2020, organizations on the whole began to connect cards *much* less\n",
    "* If connecting cards affects the value an organization's users get from the product then this decreased usage could have affected churn, I would investigate this more"
   ]
  },
  {
   "cell_type": "code",
   "execution_count": 8,
   "metadata": {},
   "outputs": [],
   "source": [
    "csm_monthly = csm.resample('M', on='csm_contact_date').count()\n",
    "csm_monthly['month'] = csm_monthly.index.strftime('%Y %b')\n",
    "csm_chart = alt.Chart(csm_monthly['2020']).mark_bar().encode(\n",
    "    x=alt.X('month(month):T', axis=alt.Axis(title='2020')),\n",
    "    y=alt.Y('csm_contact_date', axis=alt.Axis(title='Total CSM Contacts Per Month'))\n",
    ").properties(width=600,height=400)"
   ]
  },
  {
   "cell_type": "markdown",
   "metadata": {},
   "source": [
    "# CSM Contacts"
   ]
  },
  {
   "cell_type": "code",
   "execution_count": 9,
   "metadata": {},
   "outputs": [
    {
     "data": {
      "text/html": [
       "\n",
       "<div id=\"altair-viz-40416517753a489baac28de94aece849\"></div>\n",
       "<script type=\"text/javascript\">\n",
       "  (function(spec, embedOpt){\n",
       "    let outputDiv = document.currentScript.previousElementSibling;\n",
       "    if (outputDiv.id !== \"altair-viz-40416517753a489baac28de94aece849\") {\n",
       "      outputDiv = document.getElementById(\"altair-viz-40416517753a489baac28de94aece849\");\n",
       "    }\n",
       "    const paths = {\n",
       "      \"vega\": \"https://cdn.jsdelivr.net/npm//vega@5?noext\",\n",
       "      \"vega-lib\": \"https://cdn.jsdelivr.net/npm//vega-lib?noext\",\n",
       "      \"vega-lite\": \"https://cdn.jsdelivr.net/npm//vega-lite@4.8.1?noext\",\n",
       "      \"vega-embed\": \"https://cdn.jsdelivr.net/npm//vega-embed@6?noext\",\n",
       "    };\n",
       "\n",
       "    function loadScript(lib) {\n",
       "      return new Promise(function(resolve, reject) {\n",
       "        var s = document.createElement('script');\n",
       "        s.src = paths[lib];\n",
       "        s.async = true;\n",
       "        s.onload = () => resolve(paths[lib]);\n",
       "        s.onerror = () => reject(`Error loading script: ${paths[lib]}`);\n",
       "        document.getElementsByTagName(\"head\")[0].appendChild(s);\n",
       "      });\n",
       "    }\n",
       "\n",
       "    function showError(err) {\n",
       "      outputDiv.innerHTML = `<div class=\"error\" style=\"color:red;\">${err}</div>`;\n",
       "      throw err;\n",
       "    }\n",
       "\n",
       "    function displayChart(vegaEmbed) {\n",
       "      vegaEmbed(outputDiv, spec, embedOpt)\n",
       "        .catch(err => showError(`Javascript Error: ${err.message}<br>This usually means there's a typo in your chart specification. See the javascript console for the full traceback.`));\n",
       "    }\n",
       "\n",
       "    if(typeof define === \"function\" && define.amd) {\n",
       "      requirejs.config({paths});\n",
       "      require([\"vega-embed\"], displayChart, err => showError(`Error loading script: ${err.message}`));\n",
       "    } else if (typeof vegaEmbed === \"function\") {\n",
       "      displayChart(vegaEmbed);\n",
       "    } else {\n",
       "      loadScript(\"vega\")\n",
       "        .then(() => loadScript(\"vega-lite\"))\n",
       "        .then(() => loadScript(\"vega-embed\"))\n",
       "        .catch(showError)\n",
       "        .then(() => displayChart(vegaEmbed));\n",
       "    }\n",
       "  })({\"config\": {\"view\": {\"continuousWidth\": 400, \"continuousHeight\": 300}}, \"data\": {\"name\": \"data-a58ea441e499b7072f51a6b82796e23c\"}, \"mark\": \"bar\", \"encoding\": {\"x\": {\"type\": \"temporal\", \"axis\": {\"title\": \"2020\"}, \"field\": \"month\", \"timeUnit\": \"month\"}, \"y\": {\"type\": \"quantitative\", \"axis\": {\"title\": \"Total CSM Contacts Per Month\"}, \"field\": \"csm_contact_date\"}}, \"height\": 400, \"width\": 600, \"$schema\": \"https://vega.github.io/schema/vega-lite/v4.8.1.json\", \"datasets\": {\"data-a58ea441e499b7072f51a6b82796e23c\": [{\"organization_id\": 773, \"csm_contact_date\": 773, \"month\": \"2020 Jan\"}, {\"organization_id\": 895, \"csm_contact_date\": 895, \"month\": \"2020 Feb\"}, {\"organization_id\": 964, \"csm_contact_date\": 964, \"month\": \"2020 Mar\"}, {\"organization_id\": 901, \"csm_contact_date\": 901, \"month\": \"2020 Apr\"}, {\"organization_id\": 837, \"csm_contact_date\": 837, \"month\": \"2020 May\"}, {\"organization_id\": 957, \"csm_contact_date\": 957, \"month\": \"2020 Jun\"}, {\"organization_id\": 866, \"csm_contact_date\": 866, \"month\": \"2020 Jul\"}, {\"organization_id\": 939, \"csm_contact_date\": 939, \"month\": \"2020 Aug\"}, {\"organization_id\": 900, \"csm_contact_date\": 900, \"month\": \"2020 Sep\"}, {\"organization_id\": 1084, \"csm_contact_date\": 1084, \"month\": \"2020 Oct\"}, {\"organization_id\": 973, \"csm_contact_date\": 973, \"month\": \"2020 Nov\"}, {\"organization_id\": 726, \"csm_contact_date\": 726, \"month\": \"2020 Dec\"}]}}, {\"mode\": \"vega-lite\"});\n",
       "</script>"
      ],
      "text/plain": [
       "alt.Chart(...)"
      ]
     },
     "execution_count": 9,
     "metadata": {},
     "output_type": "execute_result"
    }
   ],
   "source": [
    "csm_chart"
   ]
  },
  {
   "cell_type": "markdown",
   "metadata": {},
   "source": [
    "* Get info from the CSMs about the contents of their correspondence with users to get an idea about what features users find most valuable to them\n",
    "* Investigate the correlation between CSM contacts and user churn\n",
    "* One thing of special interest is that in Dec. 2020 CSM contacts dipped but revenue churn more than tripled compared to the previous month--this could be an area to look into more"
   ]
  },
  {
   "cell_type": "code",
   "execution_count": 10,
   "metadata": {},
   "outputs": [],
   "source": [
    "pu_orgs = pu[(pu.date >= '2020') & (pu.date < '2021')].groupby('date').count()\n",
    "daily_active_orgs = alt.Chart(pu_orgs[pu_orgs.index.dayofweek < 5].reset_index()).mark_line().encode(\n",
    "    x=alt.X('date:T',axis=alt.Axis(title='2020 (Excluding Saturdays & Sundays)')),\n",
    "    y=alt.Y('organization_id', axis=alt.Axis(title='Amount of Active Organizations Each Day'))\n",
    ").properties(width=800,height=600)"
   ]
  },
  {
   "cell_type": "markdown",
   "metadata": {},
   "source": [
    "# Daily Active Organizations"
   ]
  },
  {
   "cell_type": "code",
   "execution_count": 11,
   "metadata": {},
   "outputs": [
    {
     "data": {
      "text/html": [
       "\n",
       "<div id=\"altair-viz-6e8d5503fce7482aaddbbb3a4463cba6\"></div>\n",
       "<script type=\"text/javascript\">\n",
       "  (function(spec, embedOpt){\n",
       "    let outputDiv = document.currentScript.previousElementSibling;\n",
       "    if (outputDiv.id !== \"altair-viz-6e8d5503fce7482aaddbbb3a4463cba6\") {\n",
       "      outputDiv = document.getElementById(\"altair-viz-6e8d5503fce7482aaddbbb3a4463cba6\");\n",
       "    }\n",
       "    const paths = {\n",
       "      \"vega\": \"https://cdn.jsdelivr.net/npm//vega@5?noext\",\n",
       "      \"vega-lib\": \"https://cdn.jsdelivr.net/npm//vega-lib?noext\",\n",
       "      \"vega-lite\": \"https://cdn.jsdelivr.net/npm//vega-lite@4.8.1?noext\",\n",
       "      \"vega-embed\": \"https://cdn.jsdelivr.net/npm//vega-embed@6?noext\",\n",
       "    };\n",
       "\n",
       "    function loadScript(lib) {\n",
       "      return new Promise(function(resolve, reject) {\n",
       "        var s = document.createElement('script');\n",
       "        s.src = paths[lib];\n",
       "        s.async = true;\n",
       "        s.onload = () => resolve(paths[lib]);\n",
       "        s.onerror = () => reject(`Error loading script: ${paths[lib]}`);\n",
       "        document.getElementsByTagName(\"head\")[0].appendChild(s);\n",
       "      });\n",
       "    }\n",
       "\n",
       "    function showError(err) {\n",
       "      outputDiv.innerHTML = `<div class=\"error\" style=\"color:red;\">${err}</div>`;\n",
       "      throw err;\n",
       "    }\n",
       "\n",
       "    function displayChart(vegaEmbed) {\n",
       "      vegaEmbed(outputDiv, spec, embedOpt)\n",
       "        .catch(err => showError(`Javascript Error: ${err.message}<br>This usually means there's a typo in your chart specification. See the javascript console for the full traceback.`));\n",
       "    }\n",
       "\n",
       "    if(typeof define === \"function\" && define.amd) {\n",
       "      requirejs.config({paths});\n",
       "      require([\"vega-embed\"], displayChart, err => showError(`Error loading script: ${err.message}`));\n",
       "    } else if (typeof vegaEmbed === \"function\") {\n",
       "      displayChart(vegaEmbed);\n",
       "    } else {\n",
       "      loadScript(\"vega\")\n",
       "        .then(() => loadScript(\"vega-lite\"))\n",
       "        .then(() => loadScript(\"vega-embed\"))\n",
       "        .catch(showError)\n",
       "        .then(() => displayChart(vegaEmbed));\n",
       "    }\n",
       "  })({\"config\": {\"view\": {\"continuousWidth\": 400, \"continuousHeight\": 300}}, \"data\": {\"name\": \"data-7251cc19272d5fc58acdccbe8af790ed\"}, \"mark\": \"line\", \"encoding\": {\"x\": {\"type\": \"temporal\", \"axis\": {\"title\": \"2020 (Excluding Saturdays & Sundays)\"}, \"field\": \"date\"}, \"y\": {\"type\": \"quantitative\", \"axis\": {\"title\": \"Amount of Active Organizations Each Day\"}, \"field\": \"organization_id\"}}, \"height\": 600, \"width\": 800, \"$schema\": \"https://vega.github.io/schema/vega-lite/v4.8.1.json\", \"datasets\": {\"data-7251cc19272d5fc58acdccbe8af790ed\": [{\"date\": \"2020-01-01T00:00:00\", \"organization_id\": 497, \"cards_created\": 333, \"cards_finished\": 79, \"cards_connected\": 48, \"automation_jobs\": 366, \"email_templates_sent\": 96}, {\"date\": \"2020-01-02T00:00:00\", \"organization_id\": 987, \"cards_created\": 767, \"cards_finished\": 524, \"cards_connected\": 243, \"automation_jobs\": 442, \"email_templates_sent\": 318}, {\"date\": \"2020-01-03T00:00:00\", \"organization_id\": 980, \"cards_created\": 808, \"cards_finished\": 517, \"cards_connected\": 224, \"automation_jobs\": 461, \"email_templates_sent\": 328}, {\"date\": \"2020-01-06T00:00:00\", \"organization_id\": 1294, \"cards_created\": 1067, \"cards_finished\": 761, \"cards_connected\": 322, \"automation_jobs\": 557, \"email_templates_sent\": 416}, {\"date\": \"2020-01-07T00:00:00\", \"organization_id\": 1276, \"cards_created\": 1029, \"cards_finished\": 768, \"cards_connected\": 340, \"automation_jobs\": 517, \"email_templates_sent\": 416}, {\"date\": \"2020-01-08T00:00:00\", \"organization_id\": 1245, \"cards_created\": 1031, \"cards_finished\": 736, \"cards_connected\": 350, \"automation_jobs\": 522, \"email_templates_sent\": 426}, {\"date\": \"2020-01-09T00:00:00\", \"organization_id\": 1263, \"cards_created\": 1052, \"cards_finished\": 762, \"cards_connected\": 340, \"automation_jobs\": 525, \"email_templates_sent\": 429}, {\"date\": \"2020-01-10T00:00:00\", \"organization_id\": 1220, \"cards_created\": 1008, \"cards_finished\": 689, \"cards_connected\": 318, \"automation_jobs\": 522, \"email_templates_sent\": 400}, {\"date\": \"2020-01-13T00:00:00\", \"organization_id\": 1388, \"cards_created\": 1155, \"cards_finished\": 837, \"cards_connected\": 366, \"automation_jobs\": 574, \"email_templates_sent\": 454}, {\"date\": \"2020-01-14T00:00:00\", \"organization_id\": 1329, \"cards_created\": 1085, \"cards_finished\": 827, \"cards_connected\": 383, \"automation_jobs\": 549, \"email_templates_sent\": 469}, {\"date\": \"2020-01-15T00:00:00\", \"organization_id\": 1337, \"cards_created\": 1111, \"cards_finished\": 796, \"cards_connected\": 366, \"automation_jobs\": 544, \"email_templates_sent\": 448}, {\"date\": \"2020-01-16T00:00:00\", \"organization_id\": 1315, \"cards_created\": 1087, \"cards_finished\": 788, \"cards_connected\": 372, \"automation_jobs\": 538, \"email_templates_sent\": 450}, {\"date\": \"2020-01-17T00:00:00\", \"organization_id\": 1291, \"cards_created\": 1036, \"cards_finished\": 785, \"cards_connected\": 368, \"automation_jobs\": 529, \"email_templates_sent\": 432}, {\"date\": \"2020-01-20T00:00:00\", \"organization_id\": 1390, \"cards_created\": 1158, \"cards_finished\": 834, \"cards_connected\": 352, \"automation_jobs\": 592, \"email_templates_sent\": 446}, {\"date\": \"2020-01-21T00:00:00\", \"organization_id\": 1367, \"cards_created\": 1147, \"cards_finished\": 865, \"cards_connected\": 379, \"automation_jobs\": 554, \"email_templates_sent\": 457}, {\"date\": \"2020-01-22T00:00:00\", \"organization_id\": 1377, \"cards_created\": 1128, \"cards_finished\": 832, \"cards_connected\": 395, \"automation_jobs\": 542, \"email_templates_sent\": 461}, {\"date\": \"2020-01-23T00:00:00\", \"organization_id\": 1309, \"cards_created\": 1092, \"cards_finished\": 794, \"cards_connected\": 357, \"automation_jobs\": 551, \"email_templates_sent\": 454}, {\"date\": \"2020-01-24T00:00:00\", \"organization_id\": 1342, \"cards_created\": 1098, \"cards_finished\": 790, \"cards_connected\": 371, \"automation_jobs\": 552, \"email_templates_sent\": 450}, {\"date\": \"2020-01-27T00:00:00\", \"organization_id\": 1429, \"cards_created\": 1187, \"cards_finished\": 859, \"cards_connected\": 370, \"automation_jobs\": 608, \"email_templates_sent\": 456}, {\"date\": \"2020-01-28T00:00:00\", \"organization_id\": 1383, \"cards_created\": 1146, \"cards_finished\": 871, \"cards_connected\": 361, \"automation_jobs\": 569, \"email_templates_sent\": 457}, {\"date\": \"2020-01-29T00:00:00\", \"organization_id\": 1369, \"cards_created\": 1129, \"cards_finished\": 834, \"cards_connected\": 354, \"automation_jobs\": 570, \"email_templates_sent\": 469}, {\"date\": \"2020-01-30T00:00:00\", \"organization_id\": 1375, \"cards_created\": 1156, \"cards_finished\": 846, \"cards_connected\": 364, \"automation_jobs\": 578, \"email_templates_sent\": 467}, {\"date\": \"2020-01-31T00:00:00\", \"organization_id\": 1317, \"cards_created\": 1079, \"cards_finished\": 789, \"cards_connected\": 367, \"automation_jobs\": 552, \"email_templates_sent\": 455}, {\"date\": \"2020-02-03T00:00:00\", \"organization_id\": 1477, \"cards_created\": 1226, \"cards_finished\": 900, \"cards_connected\": 406, \"automation_jobs\": 623, \"email_templates_sent\": 482}, {\"date\": \"2020-02-04T00:00:00\", \"organization_id\": 1433, \"cards_created\": 1194, \"cards_finished\": 900, \"cards_connected\": 381, \"automation_jobs\": 584, \"email_templates_sent\": 486}, {\"date\": \"2020-02-05T00:00:00\", \"organization_id\": 1426, \"cards_created\": 1187, \"cards_finished\": 884, \"cards_connected\": 394, \"automation_jobs\": 599, \"email_templates_sent\": 499}, {\"date\": \"2020-02-06T00:00:00\", \"organization_id\": 1404, \"cards_created\": 1178, \"cards_finished\": 865, \"cards_connected\": 396, \"automation_jobs\": 582, \"email_templates_sent\": 486}, {\"date\": \"2020-02-07T00:00:00\", \"organization_id\": 1405, \"cards_created\": 1168, \"cards_finished\": 834, \"cards_connected\": 357, \"automation_jobs\": 580, \"email_templates_sent\": 461}, {\"date\": \"2020-02-10T00:00:00\", \"organization_id\": 1508, \"cards_created\": 1254, \"cards_finished\": 912, \"cards_connected\": 397, \"automation_jobs\": 638, \"email_templates_sent\": 472}, {\"date\": \"2020-02-11T00:00:00\", \"organization_id\": 1514, \"cards_created\": 1227, \"cards_finished\": 960, \"cards_connected\": 417, \"automation_jobs\": 603, \"email_templates_sent\": 486}, {\"date\": \"2020-02-12T00:00:00\", \"organization_id\": 1527, \"cards_created\": 1266, \"cards_finished\": 908, \"cards_connected\": 411, \"automation_jobs\": 610, \"email_templates_sent\": 501}, {\"date\": \"2020-02-13T00:00:00\", \"organization_id\": 1455, \"cards_created\": 1185, \"cards_finished\": 910, \"cards_connected\": 381, \"automation_jobs\": 588, \"email_templates_sent\": 493}, {\"date\": \"2020-02-14T00:00:00\", \"organization_id\": 1439, \"cards_created\": 1178, \"cards_finished\": 893, \"cards_connected\": 387, \"automation_jobs\": 582, \"email_templates_sent\": 462}, {\"date\": \"2020-02-17T00:00:00\", \"organization_id\": 1505, \"cards_created\": 1258, \"cards_finished\": 912, \"cards_connected\": 398, \"automation_jobs\": 637, \"email_templates_sent\": 499}, {\"date\": \"2020-02-18T00:00:00\", \"organization_id\": 1498, \"cards_created\": 1237, \"cards_finished\": 933, \"cards_connected\": 412, \"automation_jobs\": 612, \"email_templates_sent\": 507}, {\"date\": \"2020-02-19T00:00:00\", \"organization_id\": 1503, \"cards_created\": 1218, \"cards_finished\": 911, \"cards_connected\": 425, \"automation_jobs\": 606, \"email_templates_sent\": 498}, {\"date\": \"2020-02-20T00:00:00\", \"organization_id\": 1476, \"cards_created\": 1208, \"cards_finished\": 899, \"cards_connected\": 401, \"automation_jobs\": 620, \"email_templates_sent\": 487}, {\"date\": \"2020-02-21T00:00:00\", \"organization_id\": 1413, \"cards_created\": 1134, \"cards_finished\": 850, \"cards_connected\": 393, \"automation_jobs\": 600, \"email_templates_sent\": 480}, {\"date\": \"2020-02-24T00:00:00\", \"organization_id\": 918, \"cards_created\": 679, \"cards_finished\": 386, \"cards_connected\": 179, \"automation_jobs\": 474, \"email_templates_sent\": 233}, {\"date\": \"2020-02-25T00:00:00\", \"organization_id\": 801, \"cards_created\": 603, \"cards_finished\": 306, \"cards_connected\": 142, \"automation_jobs\": 403, \"email_templates_sent\": 212}, {\"date\": \"2020-02-26T00:00:00\", \"organization_id\": 1242, \"cards_created\": 987, \"cards_finished\": 724, \"cards_connected\": 312, \"automation_jobs\": 528, \"email_templates_sent\": 388}, {\"date\": \"2020-02-27T00:00:00\", \"organization_id\": 1476, \"cards_created\": 1197, \"cards_finished\": 905, \"cards_connected\": 412, \"automation_jobs\": 613, \"email_templates_sent\": 493}, {\"date\": \"2020-02-28T00:00:00\", \"organization_id\": 1435, \"cards_created\": 1158, \"cards_finished\": 876, \"cards_connected\": 390, \"automation_jobs\": 625, \"email_templates_sent\": 477}, {\"date\": \"2020-03-02T00:00:00\", \"organization_id\": 1596, \"cards_created\": 1321, \"cards_finished\": 997, \"cards_connected\": 420, \"automation_jobs\": 663, \"email_templates_sent\": 531}, {\"date\": \"2020-03-03T00:00:00\", \"organization_id\": 1558, \"cards_created\": 1285, \"cards_finished\": 980, \"cards_connected\": 417, \"automation_jobs\": 607, \"email_templates_sent\": 516}, {\"date\": \"2020-03-04T00:00:00\", \"organization_id\": 1537, \"cards_created\": 1278, \"cards_finished\": 970, \"cards_connected\": 420, \"automation_jobs\": 617, \"email_templates_sent\": 515}, {\"date\": \"2020-03-05T00:00:00\", \"organization_id\": 1513, \"cards_created\": 1248, \"cards_finished\": 938, \"cards_connected\": 410, \"automation_jobs\": 619, \"email_templates_sent\": 492}, {\"date\": \"2020-03-06T00:00:00\", \"organization_id\": 1426, \"cards_created\": 1178, \"cards_finished\": 885, \"cards_connected\": 385, \"automation_jobs\": 602, \"email_templates_sent\": 459}, {\"date\": \"2020-03-09T00:00:00\", \"organization_id\": 1591, \"cards_created\": 1331, \"cards_finished\": 1000, \"cards_connected\": 414, \"automation_jobs\": 681, \"email_templates_sent\": 515}, {\"date\": \"2020-03-10T00:00:00\", \"organization_id\": 1560, \"cards_created\": 1286, \"cards_finished\": 989, \"cards_connected\": 422, \"automation_jobs\": 614, \"email_templates_sent\": 532}, {\"date\": \"2020-03-11T00:00:00\", \"organization_id\": 1536, \"cards_created\": 1274, \"cards_finished\": 1002, \"cards_connected\": 407, \"automation_jobs\": 614, \"email_templates_sent\": 508}, {\"date\": \"2020-03-12T00:00:00\", \"organization_id\": 1480, \"cards_created\": 1216, \"cards_finished\": 949, \"cards_connected\": 411, \"automation_jobs\": 617, \"email_templates_sent\": 501}, {\"date\": \"2020-03-13T00:00:00\", \"organization_id\": 1425, \"cards_created\": 1190, \"cards_finished\": 861, \"cards_connected\": 405, \"automation_jobs\": 598, \"email_templates_sent\": 494}, {\"date\": \"2020-03-16T00:00:00\", \"organization_id\": 1559, \"cards_created\": 1255, \"cards_finished\": 988, \"cards_connected\": 417, \"automation_jobs\": 657, \"email_templates_sent\": 513}, {\"date\": \"2020-03-17T00:00:00\", \"organization_id\": 1428, \"cards_created\": 1177, \"cards_finished\": 898, \"cards_connected\": 400, \"automation_jobs\": 597, \"email_templates_sent\": 503}, {\"date\": \"2020-03-18T00:00:00\", \"organization_id\": 1441, \"cards_created\": 1182, \"cards_finished\": 876, \"cards_connected\": 388, \"automation_jobs\": 595, \"email_templates_sent\": 493}, {\"date\": \"2020-03-19T00:00:00\", \"organization_id\": 1342, \"cards_created\": 1102, \"cards_finished\": 848, \"cards_connected\": 351, \"automation_jobs\": 575, \"email_templates_sent\": 454}, {\"date\": \"2020-03-20T00:00:00\", \"organization_id\": 1334, \"cards_created\": 1074, \"cards_finished\": 821, \"cards_connected\": 355, \"automation_jobs\": 586, \"email_templates_sent\": 458}, {\"date\": \"2020-03-23T00:00:00\", \"organization_id\": 1358, \"cards_created\": 1117, \"cards_finished\": 839, \"cards_connected\": 356, \"automation_jobs\": 599, \"email_templates_sent\": 441}, {\"date\": \"2020-03-24T00:00:00\", \"organization_id\": 1291, \"cards_created\": 1035, \"cards_finished\": 800, \"cards_connected\": 329, \"automation_jobs\": 553, \"email_templates_sent\": 441}, {\"date\": \"2020-03-25T00:00:00\", \"organization_id\": 1283, \"cards_created\": 1010, \"cards_finished\": 776, \"cards_connected\": 346, \"automation_jobs\": 557, \"email_templates_sent\": 434}, {\"date\": \"2020-03-26T00:00:00\", \"organization_id\": 1267, \"cards_created\": 1021, \"cards_finished\": 776, \"cards_connected\": 354, \"automation_jobs\": 553, \"email_templates_sent\": 417}, {\"date\": \"2020-03-27T00:00:00\", \"organization_id\": 1294, \"cards_created\": 1043, \"cards_finished\": 780, \"cards_connected\": 363, \"automation_jobs\": 558, \"email_templates_sent\": 426}, {\"date\": \"2020-03-30T00:00:00\", \"organization_id\": 1403, \"cards_created\": 1146, \"cards_finished\": 844, \"cards_connected\": 364, \"automation_jobs\": 623, \"email_templates_sent\": 454}, {\"date\": \"2020-03-31T00:00:00\", \"organization_id\": 1349, \"cards_created\": 1083, \"cards_finished\": 823, \"cards_connected\": 378, \"automation_jobs\": 552, \"email_templates_sent\": 439}, {\"date\": \"2020-04-01T00:00:00\", \"organization_id\": 1391, \"cards_created\": 1114, \"cards_finished\": 815, \"cards_connected\": 361, \"automation_jobs\": 632, \"email_templates_sent\": 441}, {\"date\": \"2020-04-02T00:00:00\", \"organization_id\": 1337, \"cards_created\": 1090, \"cards_finished\": 807, \"cards_connected\": 355, \"automation_jobs\": 576, \"email_templates_sent\": 444}, {\"date\": \"2020-04-03T00:00:00\", \"organization_id\": 1295, \"cards_created\": 1026, \"cards_finished\": 743, \"cards_connected\": 347, \"automation_jobs\": 558, \"email_templates_sent\": 425}, {\"date\": \"2020-04-06T00:00:00\", \"organization_id\": 1370, \"cards_created\": 1127, \"cards_finished\": 787, \"cards_connected\": 355, \"automation_jobs\": 616, \"email_templates_sent\": 448}, {\"date\": \"2020-04-07T00:00:00\", \"organization_id\": 1331, \"cards_created\": 1077, \"cards_finished\": 810, \"cards_connected\": 361, \"automation_jobs\": 569, \"email_templates_sent\": 443}, {\"date\": \"2020-04-08T00:00:00\", \"organization_id\": 1320, \"cards_created\": 1054, \"cards_finished\": 776, \"cards_connected\": 348, \"automation_jobs\": 559, \"email_templates_sent\": 448}, {\"date\": \"2020-04-09T00:00:00\", \"organization_id\": 1276, \"cards_created\": 1039, \"cards_finished\": 765, \"cards_connected\": 339, \"automation_jobs\": 552, \"email_templates_sent\": 424}, {\"date\": \"2020-04-10T00:00:00\", \"organization_id\": 809, \"cards_created\": 580, \"cards_finished\": 305, \"cards_connected\": 148, \"automation_jobs\": 434, \"email_templates_sent\": 211}, {\"date\": \"2020-04-13T00:00:00\", \"organization_id\": 1396, \"cards_created\": 1149, \"cards_finished\": 797, \"cards_connected\": 366, \"automation_jobs\": 617, \"email_templates_sent\": 454}, {\"date\": \"2020-04-14T00:00:00\", \"organization_id\": 1350, \"cards_created\": 1098, \"cards_finished\": 839, \"cards_connected\": 371, \"automation_jobs\": 566, \"email_templates_sent\": 447}, {\"date\": \"2020-04-15T00:00:00\", \"organization_id\": 1359, \"cards_created\": 1082, \"cards_finished\": 829, \"cards_connected\": 346, \"automation_jobs\": 586, \"email_templates_sent\": 441}, {\"date\": \"2020-04-16T00:00:00\", \"organization_id\": 1344, \"cards_created\": 1088, \"cards_finished\": 800, \"cards_connected\": 366, \"automation_jobs\": 574, \"email_templates_sent\": 446}, {\"date\": \"2020-04-17T00:00:00\", \"organization_id\": 1295, \"cards_created\": 1025, \"cards_finished\": 772, \"cards_connected\": 349, \"automation_jobs\": 559, \"email_templates_sent\": 430}, {\"date\": \"2020-04-20T00:00:00\", \"organization_id\": 1366, \"cards_created\": 1103, \"cards_finished\": 766, \"cards_connected\": 355, \"automation_jobs\": 608, \"email_templates_sent\": 415}, {\"date\": \"2020-04-21T00:00:00\", \"organization_id\": 958, \"cards_created\": 709, \"cards_finished\": 444, \"cards_connected\": 178, \"automation_jobs\": 446, \"email_templates_sent\": 250}, {\"date\": \"2020-04-22T00:00:00\", \"organization_id\": 1398, \"cards_created\": 1117, \"cards_finished\": 840, \"cards_connected\": 393, \"automation_jobs\": 594, \"email_templates_sent\": 455}, {\"date\": \"2020-04-23T00:00:00\", \"organization_id\": 1304, \"cards_created\": 1050, \"cards_finished\": 781, \"cards_connected\": 363, \"automation_jobs\": 589, \"email_templates_sent\": 439}, {\"date\": \"2020-04-24T00:00:00\", \"organization_id\": 1323, \"cards_created\": 1046, \"cards_finished\": 766, \"cards_connected\": 374, \"automation_jobs\": 587, \"email_templates_sent\": 419}, {\"date\": \"2020-04-27T00:00:00\", \"organization_id\": 1465, \"cards_created\": 1188, \"cards_finished\": 887, \"cards_connected\": 366, \"automation_jobs\": 658, \"email_templates_sent\": 468}, {\"date\": \"2020-04-28T00:00:00\", \"organization_id\": 1390, \"cards_created\": 1113, \"cards_finished\": 850, \"cards_connected\": 393, \"automation_jobs\": 589, \"email_templates_sent\": 466}, {\"date\": \"2020-04-29T00:00:00\", \"organization_id\": 1368, \"cards_created\": 1121, \"cards_finished\": 870, \"cards_connected\": 375, \"automation_jobs\": 598, \"email_templates_sent\": 452}, {\"date\": \"2020-04-30T00:00:00\", \"organization_id\": 1372, \"cards_created\": 1095, \"cards_finished\": 846, \"cards_connected\": 376, \"automation_jobs\": 594, \"email_templates_sent\": 471}, {\"date\": \"2020-05-01T00:00:00\", \"organization_id\": 955, \"cards_created\": 716, \"cards_finished\": 386, \"cards_connected\": 168, \"automation_jobs\": 532, \"email_templates_sent\": 242}, {\"date\": \"2020-05-04T00:00:00\", \"organization_id\": 1489, \"cards_created\": 1207, \"cards_finished\": 913, \"cards_connected\": 387, \"automation_jobs\": 666, \"email_templates_sent\": 488}, {\"date\": \"2020-05-05T00:00:00\", \"organization_id\": 1416, \"cards_created\": 1162, \"cards_finished\": 863, \"cards_connected\": 367, \"automation_jobs\": 602, \"email_templates_sent\": 492}, {\"date\": \"2020-05-06T00:00:00\", \"organization_id\": 1434, \"cards_created\": 1167, \"cards_finished\": 889, \"cards_connected\": 394, \"automation_jobs\": 600, \"email_templates_sent\": 490}, {\"date\": \"2020-05-07T00:00:00\", \"organization_id\": 1383, \"cards_created\": 1103, \"cards_finished\": 869, \"cards_connected\": 388, \"automation_jobs\": 612, \"email_templates_sent\": 465}, {\"date\": \"2020-05-08T00:00:00\", \"organization_id\": 1363, \"cards_created\": 1115, \"cards_finished\": 817, \"cards_connected\": 371, \"automation_jobs\": 622, \"email_templates_sent\": 466}, {\"date\": \"2020-05-11T00:00:00\", \"organization_id\": 1504, \"cards_created\": 1220, \"cards_finished\": 954, \"cards_connected\": 403, \"automation_jobs\": 658, \"email_templates_sent\": 483}, {\"date\": \"2020-05-12T00:00:00\", \"organization_id\": 1416, \"cards_created\": 1159, \"cards_finished\": 899, \"cards_connected\": 393, \"automation_jobs\": 603, \"email_templates_sent\": 476}, {\"date\": \"2020-05-13T00:00:00\", \"organization_id\": 1451, \"cards_created\": 1169, \"cards_finished\": 911, \"cards_connected\": 415, \"automation_jobs\": 622, \"email_templates_sent\": 463}, {\"date\": \"2020-05-14T00:00:00\", \"organization_id\": 1463, \"cards_created\": 1184, \"cards_finished\": 907, \"cards_connected\": 406, \"automation_jobs\": 620, \"email_templates_sent\": 487}, {\"date\": \"2020-05-15T00:00:00\", \"organization_id\": 1379, \"cards_created\": 1097, \"cards_finished\": 856, \"cards_connected\": 360, \"automation_jobs\": 629, \"email_templates_sent\": 456}, {\"date\": \"2020-05-18T00:00:00\", \"organization_id\": 1469, \"cards_created\": 1192, \"cards_finished\": 941, \"cards_connected\": 401, \"automation_jobs\": 658, \"email_templates_sent\": 467}, {\"date\": \"2020-05-19T00:00:00\", \"organization_id\": 1494, \"cards_created\": 1203, \"cards_finished\": 928, \"cards_connected\": 412, \"automation_jobs\": 626, \"email_templates_sent\": 499}, {\"date\": \"2020-05-20T00:00:00\", \"organization_id\": 1450, \"cards_created\": 1169, \"cards_finished\": 877, \"cards_connected\": 417, \"automation_jobs\": 627, \"email_templates_sent\": 488}, {\"date\": \"2020-05-21T00:00:00\", \"organization_id\": 1378, \"cards_created\": 1083, \"cards_finished\": 854, \"cards_connected\": 370, \"automation_jobs\": 594, \"email_templates_sent\": 457}, {\"date\": \"2020-05-22T00:00:00\", \"organization_id\": 1387, \"cards_created\": 1102, \"cards_finished\": 891, \"cards_connected\": 392, \"automation_jobs\": 616, \"email_templates_sent\": 455}, {\"date\": \"2020-05-25T00:00:00\", \"organization_id\": 1391, \"cards_created\": 1118, \"cards_finished\": 833, \"cards_connected\": 347, \"automation_jobs\": 646, \"email_templates_sent\": 426}, {\"date\": \"2020-05-26T00:00:00\", \"organization_id\": 1460, \"cards_created\": 1179, \"cards_finished\": 949, \"cards_connected\": 406, \"automation_jobs\": 616, \"email_templates_sent\": 488}, {\"date\": \"2020-05-27T00:00:00\", \"organization_id\": 1473, \"cards_created\": 1183, \"cards_finished\": 962, \"cards_connected\": 399, \"automation_jobs\": 628, \"email_templates_sent\": 484}, {\"date\": \"2020-05-28T00:00:00\", \"organization_id\": 1434, \"cards_created\": 1170, \"cards_finished\": 911, \"cards_connected\": 395, \"automation_jobs\": 632, \"email_templates_sent\": 479}, {\"date\": \"2020-05-29T00:00:00\", \"organization_id\": 1422, \"cards_created\": 1129, \"cards_finished\": 921, \"cards_connected\": 403, \"automation_jobs\": 635, \"email_templates_sent\": 495}, {\"date\": \"2020-06-01T00:00:00\", \"organization_id\": 1574, \"cards_created\": 1269, \"cards_finished\": 1014, \"cards_connected\": 422, \"automation_jobs\": 763, \"email_templates_sent\": 513}, {\"date\": \"2020-06-02T00:00:00\", \"organization_id\": 1489, \"cards_created\": 1213, \"cards_finished\": 966, \"cards_connected\": 426, \"automation_jobs\": 646, \"email_templates_sent\": 536}, {\"date\": \"2020-06-03T00:00:00\", \"organization_id\": 1502, \"cards_created\": 1211, \"cards_finished\": 991, \"cards_connected\": 421, \"automation_jobs\": 663, \"email_templates_sent\": 540}, {\"date\": \"2020-06-04T00:00:00\", \"organization_id\": 1487, \"cards_created\": 1187, \"cards_finished\": 950, \"cards_connected\": 455, \"automation_jobs\": 646, \"email_templates_sent\": 525}, {\"date\": \"2020-06-05T00:00:00\", \"organization_id\": 1472, \"cards_created\": 1178, \"cards_finished\": 975, \"cards_connected\": 401, \"automation_jobs\": 665, \"email_templates_sent\": 515}, {\"date\": \"2020-06-08T00:00:00\", \"organization_id\": 1575, \"cards_created\": 1278, \"cards_finished\": 1039, \"cards_connected\": 451, \"automation_jobs\": 728, \"email_templates_sent\": 538}, {\"date\": \"2020-06-09T00:00:00\", \"organization_id\": 1522, \"cards_created\": 1242, \"cards_finished\": 1026, \"cards_connected\": 444, \"automation_jobs\": 682, \"email_templates_sent\": 554}, {\"date\": \"2020-06-10T00:00:00\", \"organization_id\": 1500, \"cards_created\": 1206, \"cards_finished\": 1002, \"cards_connected\": 451, \"automation_jobs\": 700, \"email_templates_sent\": 535}, {\"date\": \"2020-06-11T00:00:00\", \"organization_id\": 1148, \"cards_created\": 897, \"cards_finished\": 614, \"cards_connected\": 295, \"automation_jobs\": 561, \"email_templates_sent\": 385}, {\"date\": \"2020-06-12T00:00:00\", \"organization_id\": 1333, \"cards_created\": 1057, \"cards_finished\": 819, \"cards_connected\": 366, \"automation_jobs\": 641, \"email_templates_sent\": 467}, {\"date\": \"2020-06-15T00:00:00\", \"organization_id\": 1591, \"cards_created\": 1308, \"cards_finished\": 1005, \"cards_connected\": 446, \"automation_jobs\": 734, \"email_templates_sent\": 549}, {\"date\": \"2020-06-16T00:00:00\", \"organization_id\": 1514, \"cards_created\": 1201, \"cards_finished\": 1016, \"cards_connected\": 430, \"automation_jobs\": 657, \"email_templates_sent\": 532}, {\"date\": \"2020-06-17T00:00:00\", \"organization_id\": 1536, \"cards_created\": 1248, \"cards_finished\": 1008, \"cards_connected\": 428, \"automation_jobs\": 676, \"email_templates_sent\": 550}, {\"date\": \"2020-06-18T00:00:00\", \"organization_id\": 1483, \"cards_created\": 1184, \"cards_finished\": 994, \"cards_connected\": 426, \"automation_jobs\": 680, \"email_templates_sent\": 531}, {\"date\": \"2020-06-19T00:00:00\", \"organization_id\": 1413, \"cards_created\": 1127, \"cards_finished\": 939, \"cards_connected\": 378, \"automation_jobs\": 660, \"email_templates_sent\": 505}, {\"date\": \"2020-06-22T00:00:00\", \"organization_id\": 1556, \"cards_created\": 1268, \"cards_finished\": 1039, \"cards_connected\": 441, \"automation_jobs\": 736, \"email_templates_sent\": 541}, {\"date\": \"2020-06-23T00:00:00\", \"organization_id\": 1547, \"cards_created\": 1259, \"cards_finished\": 1056, \"cards_connected\": 430, \"automation_jobs\": 675, \"email_templates_sent\": 557}, {\"date\": \"2020-06-24T00:00:00\", \"organization_id\": 1529, \"cards_created\": 1267, \"cards_finished\": 976, \"cards_connected\": 452, \"automation_jobs\": 669, \"email_templates_sent\": 539}, {\"date\": \"2020-06-25T00:00:00\", \"organization_id\": 1490, \"cards_created\": 1211, \"cards_finished\": 1028, \"cards_connected\": 416, \"automation_jobs\": 665, \"email_templates_sent\": 541}, {\"date\": \"2020-06-26T00:00:00\", \"organization_id\": 1474, \"cards_created\": 1199, \"cards_finished\": 957, \"cards_connected\": 417, \"automation_jobs\": 696, \"email_templates_sent\": 526}, {\"date\": \"2020-06-29T00:00:00\", \"organization_id\": 1593, \"cards_created\": 1310, \"cards_finished\": 1062, \"cards_connected\": 431, \"automation_jobs\": 751, \"email_templates_sent\": 552}, {\"date\": \"2020-06-30T00:00:00\", \"organization_id\": 1509, \"cards_created\": 1244, \"cards_finished\": 1028, \"cards_connected\": 423, \"automation_jobs\": 697, \"email_templates_sent\": 557}, {\"date\": \"2020-07-01T00:00:00\", \"organization_id\": 1589, \"cards_created\": 1294, \"cards_finished\": 1048, \"cards_connected\": 425, \"automation_jobs\": 785, \"email_templates_sent\": 549}, {\"date\": \"2020-07-02T00:00:00\", \"organization_id\": 1493, \"cards_created\": 1225, \"cards_finished\": 1015, \"cards_connected\": 414, \"automation_jobs\": 710, \"email_templates_sent\": 533}, {\"date\": \"2020-07-03T00:00:00\", \"organization_id\": 1434, \"cards_created\": 1152, \"cards_finished\": 947, \"cards_connected\": 384, \"automation_jobs\": 667, \"email_templates_sent\": 503}, {\"date\": \"2020-07-06T00:00:00\", \"organization_id\": 1621, \"cards_created\": 1334, \"cards_finished\": 1074, \"cards_connected\": 439, \"automation_jobs\": 755, \"email_templates_sent\": 552}, {\"date\": \"2020-07-07T00:00:00\", \"organization_id\": 1622, \"cards_created\": 1325, \"cards_finished\": 1086, \"cards_connected\": 431, \"automation_jobs\": 713, \"email_templates_sent\": 539}, {\"date\": \"2020-07-08T00:00:00\", \"organization_id\": 1589, \"cards_created\": 1298, \"cards_finished\": 1060, \"cards_connected\": 444, \"automation_jobs\": 699, \"email_templates_sent\": 530}, {\"date\": \"2020-07-09T00:00:00\", \"organization_id\": 1520, \"cards_created\": 1235, \"cards_finished\": 1015, \"cards_connected\": 421, \"automation_jobs\": 701, \"email_templates_sent\": 551}, {\"date\": \"2020-07-10T00:00:00\", \"organization_id\": 1500, \"cards_created\": 1220, \"cards_finished\": 1028, \"cards_connected\": 414, \"automation_jobs\": 711, \"email_templates_sent\": 514}, {\"date\": \"2020-07-13T00:00:00\", \"organization_id\": 1664, \"cards_created\": 1373, \"cards_finished\": 1116, \"cards_connected\": 445, \"automation_jobs\": 780, \"email_templates_sent\": 572}, {\"date\": \"2020-07-14T00:00:00\", \"organization_id\": 1564, \"cards_created\": 1292, \"cards_finished\": 1107, \"cards_connected\": 453, \"automation_jobs\": 723, \"email_templates_sent\": 585}, {\"date\": \"2020-07-15T00:00:00\", \"organization_id\": 1622, \"cards_created\": 1341, \"cards_finished\": 1123, \"cards_connected\": 436, \"automation_jobs\": 721, \"email_templates_sent\": 571}, {\"date\": \"2020-07-16T00:00:00\", \"organization_id\": 1580, \"cards_created\": 1303, \"cards_finished\": 1078, \"cards_connected\": 445, \"automation_jobs\": 704, \"email_templates_sent\": 561}, {\"date\": \"2020-07-17T00:00:00\", \"organization_id\": 1544, \"cards_created\": 1239, \"cards_finished\": 1020, \"cards_connected\": 410, \"automation_jobs\": 701, \"email_templates_sent\": 516}, {\"date\": \"2020-07-20T00:00:00\", \"organization_id\": 1672, \"cards_created\": 1359, \"cards_finished\": 1120, \"cards_connected\": 443, \"automation_jobs\": 794, \"email_templates_sent\": 561}, {\"date\": \"2020-07-21T00:00:00\", \"organization_id\": 1581, \"cards_created\": 1291, \"cards_finished\": 1077, \"cards_connected\": 433, \"automation_jobs\": 718, \"email_templates_sent\": 550}, {\"date\": \"2020-07-22T00:00:00\", \"organization_id\": 1569, \"cards_created\": 1307, \"cards_finished\": 1074, \"cards_connected\": 442, \"automation_jobs\": 715, \"email_templates_sent\": 549}, {\"date\": \"2020-07-23T00:00:00\", \"organization_id\": 1619, \"cards_created\": 1346, \"cards_finished\": 1072, \"cards_connected\": 446, \"automation_jobs\": 739, \"email_templates_sent\": 557}, {\"date\": \"2020-07-24T00:00:00\", \"organization_id\": 1540, \"cards_created\": 1239, \"cards_finished\": 1036, \"cards_connected\": 431, \"automation_jobs\": 735, \"email_templates_sent\": 544}, {\"date\": \"2020-07-27T00:00:00\", \"organization_id\": 1667, \"cards_created\": 1379, \"cards_finished\": 1127, \"cards_connected\": 454, \"automation_jobs\": 800, \"email_templates_sent\": 563}, {\"date\": \"2020-07-28T00:00:00\", \"organization_id\": 1622, \"cards_created\": 1332, \"cards_finished\": 1124, \"cards_connected\": 463, \"automation_jobs\": 728, \"email_templates_sent\": 573}, {\"date\": \"2020-07-29T00:00:00\", \"organization_id\": 1611, \"cards_created\": 1326, \"cards_finished\": 1068, \"cards_connected\": 465, \"automation_jobs\": 742, \"email_templates_sent\": 554}, {\"date\": \"2020-07-30T00:00:00\", \"organization_id\": 1565, \"cards_created\": 1280, \"cards_finished\": 1068, \"cards_connected\": 446, \"automation_jobs\": 721, \"email_templates_sent\": 565}, {\"date\": \"2020-07-31T00:00:00\", \"organization_id\": 1562, \"cards_created\": 1256, \"cards_finished\": 1061, \"cards_connected\": 423, \"automation_jobs\": 734, \"email_templates_sent\": 550}, {\"date\": \"2020-08-03T00:00:00\", \"organization_id\": 1674, \"cards_created\": 1377, \"cards_finished\": 1127, \"cards_connected\": 471, \"automation_jobs\": 806, \"email_templates_sent\": 574}, {\"date\": \"2020-08-04T00:00:00\", \"organization_id\": 1630, \"cards_created\": 1335, \"cards_finished\": 1121, \"cards_connected\": 474, \"automation_jobs\": 718, \"email_templates_sent\": 573}, {\"date\": \"2020-08-05T00:00:00\", \"organization_id\": 1607, \"cards_created\": 1325, \"cards_finished\": 1081, \"cards_connected\": 461, \"automation_jobs\": 773, \"email_templates_sent\": 573}, {\"date\": \"2020-08-06T00:00:00\", \"organization_id\": 1587, \"cards_created\": 1301, \"cards_finished\": 1132, \"cards_connected\": 443, \"automation_jobs\": 750, \"email_templates_sent\": 588}, {\"date\": \"2020-08-07T00:00:00\", \"organization_id\": 1530, \"cards_created\": 1242, \"cards_finished\": 1033, \"cards_connected\": 451, \"automation_jobs\": 726, \"email_templates_sent\": 538}, {\"date\": \"2020-08-10T00:00:00\", \"organization_id\": 1716, \"cards_created\": 1426, \"cards_finished\": 1169, \"cards_connected\": 463, \"automation_jobs\": 806, \"email_templates_sent\": 608}, {\"date\": \"2020-08-11T00:00:00\", \"organization_id\": 1645, \"cards_created\": 1346, \"cards_finished\": 1159, \"cards_connected\": 469, \"automation_jobs\": 739, \"email_templates_sent\": 587}, {\"date\": \"2020-08-12T00:00:00\", \"organization_id\": 1643, \"cards_created\": 1372, \"cards_finished\": 1107, \"cards_connected\": 454, \"automation_jobs\": 748, \"email_templates_sent\": 586}, {\"date\": \"2020-08-13T00:00:00\", \"organization_id\": 1624, \"cards_created\": 1332, \"cards_finished\": 1110, \"cards_connected\": 444, \"automation_jobs\": 736, \"email_templates_sent\": 591}, {\"date\": \"2020-08-14T00:00:00\", \"organization_id\": 1599, \"cards_created\": 1300, \"cards_finished\": 1102, \"cards_connected\": 440, \"automation_jobs\": 733, \"email_templates_sent\": 562}, {\"date\": \"2020-08-17T00:00:00\", \"organization_id\": 1752, \"cards_created\": 1461, \"cards_finished\": 1196, \"cards_connected\": 458, \"automation_jobs\": 818, \"email_templates_sent\": 595}, {\"date\": \"2020-08-18T00:00:00\", \"organization_id\": 1697, \"cards_created\": 1368, \"cards_finished\": 1162, \"cards_connected\": 467, \"automation_jobs\": 750, \"email_templates_sent\": 582}, {\"date\": \"2020-08-19T00:00:00\", \"organization_id\": 1663, \"cards_created\": 1377, \"cards_finished\": 1157, \"cards_connected\": 466, \"automation_jobs\": 751, \"email_templates_sent\": 570}, {\"date\": \"2020-08-20T00:00:00\", \"organization_id\": 1682, \"cards_created\": 1373, \"cards_finished\": 1167, \"cards_connected\": 437, \"automation_jobs\": 759, \"email_templates_sent\": 574}, {\"date\": \"2020-08-21T00:00:00\", \"organization_id\": 1611, \"cards_created\": 1308, \"cards_finished\": 1080, \"cards_connected\": 435, \"automation_jobs\": 754, \"email_templates_sent\": 558}, {\"date\": \"2020-08-24T00:00:00\", \"organization_id\": 1741, \"cards_created\": 1423, \"cards_finished\": 1247, \"cards_connected\": 475, \"automation_jobs\": 832, \"email_templates_sent\": 616}, {\"date\": \"2020-08-25T00:00:00\", \"organization_id\": 1729, \"cards_created\": 1415, \"cards_finished\": 1243, \"cards_connected\": 453, \"automation_jobs\": 783, \"email_templates_sent\": 605}, {\"date\": \"2020-08-26T00:00:00\", \"organization_id\": 1709, \"cards_created\": 1409, \"cards_finished\": 1225, \"cards_connected\": 487, \"automation_jobs\": 779, \"email_templates_sent\": 577}, {\"date\": \"2020-08-27T00:00:00\", \"organization_id\": 1661, \"cards_created\": 1385, \"cards_finished\": 1135, \"cards_connected\": 467, \"automation_jobs\": 774, \"email_templates_sent\": 590}, {\"date\": \"2020-08-28T00:00:00\", \"organization_id\": 1583, \"cards_created\": 1302, \"cards_finished\": 1085, \"cards_connected\": 454, \"automation_jobs\": 777, \"email_templates_sent\": 575}, {\"date\": \"2020-08-31T00:00:00\", \"organization_id\": 1714, \"cards_created\": 1391, \"cards_finished\": 1259, \"cards_connected\": 486, \"automation_jobs\": 839, \"email_templates_sent\": 603}, {\"date\": \"2020-09-01T00:00:00\", \"organization_id\": 1749, \"cards_created\": 1421, \"cards_finished\": 1257, \"cards_connected\": 474, \"automation_jobs\": 863, \"email_templates_sent\": 630}, {\"date\": \"2020-09-02T00:00:00\", \"organization_id\": 1689, \"cards_created\": 1383, \"cards_finished\": 1168, \"cards_connected\": 481, \"automation_jobs\": 798, \"email_templates_sent\": 606}, {\"date\": \"2020-09-03T00:00:00\", \"organization_id\": 1607, \"cards_created\": 1310, \"cards_finished\": 1109, \"cards_connected\": 476, \"automation_jobs\": 797, \"email_templates_sent\": 588}, {\"date\": \"2020-09-04T00:00:00\", \"organization_id\": 1588, \"cards_created\": 1291, \"cards_finished\": 1058, \"cards_connected\": 453, \"automation_jobs\": 780, \"email_templates_sent\": 578}, {\"date\": \"2020-09-07T00:00:00\", \"organization_id\": 1073, \"cards_created\": 809, \"cards_finished\": 444, \"cards_connected\": 194, \"automation_jobs\": 614, \"email_templates_sent\": 296}, {\"date\": \"2020-09-08T00:00:00\", \"organization_id\": 1612, \"cards_created\": 1319, \"cards_finished\": 1095, \"cards_connected\": 460, \"automation_jobs\": 770, \"email_templates_sent\": 601}, {\"date\": \"2020-09-09T00:00:00\", \"organization_id\": 1673, \"cards_created\": 1393, \"cards_finished\": 1183, \"cards_connected\": 480, \"automation_jobs\": 785, \"email_templates_sent\": 607}, {\"date\": \"2020-09-10T00:00:00\", \"organization_id\": 1701, \"cards_created\": 1384, \"cards_finished\": 1156, \"cards_connected\": 477, \"automation_jobs\": 802, \"email_templates_sent\": 629}, {\"date\": \"2020-09-11T00:00:00\", \"organization_id\": 1601, \"cards_created\": 1297, \"cards_finished\": 1061, \"cards_connected\": 448, \"automation_jobs\": 778, \"email_templates_sent\": 605}, {\"date\": \"2020-09-14T00:00:00\", \"organization_id\": 1750, \"cards_created\": 1424, \"cards_finished\": 1195, \"cards_connected\": 481, \"automation_jobs\": 866, \"email_templates_sent\": 629}, {\"date\": \"2020-09-15T00:00:00\", \"organization_id\": 1708, \"cards_created\": 1389, \"cards_finished\": 1170, \"cards_connected\": 469, \"automation_jobs\": 805, \"email_templates_sent\": 616}, {\"date\": \"2020-09-16T00:00:00\", \"organization_id\": 1642, \"cards_created\": 1347, \"cards_finished\": 1151, \"cards_connected\": 487, \"automation_jobs\": 787, \"email_templates_sent\": 611}, {\"date\": \"2020-09-17T00:00:00\", \"organization_id\": 1679, \"cards_created\": 1339, \"cards_finished\": 1180, \"cards_connected\": 470, \"automation_jobs\": 801, \"email_templates_sent\": 619}, {\"date\": \"2020-09-18T00:00:00\", \"organization_id\": 1630, \"cards_created\": 1328, \"cards_finished\": 1122, \"cards_connected\": 470, \"automation_jobs\": 771, \"email_templates_sent\": 583}, {\"date\": \"2020-09-21T00:00:00\", \"organization_id\": 1787, \"cards_created\": 1464, \"cards_finished\": 1244, \"cards_connected\": 486, \"automation_jobs\": 864, \"email_templates_sent\": 605}, {\"date\": \"2020-09-22T00:00:00\", \"organization_id\": 1741, \"cards_created\": 1406, \"cards_finished\": 1268, \"cards_connected\": 483, \"automation_jobs\": 819, \"email_templates_sent\": 613}, {\"date\": \"2020-09-23T00:00:00\", \"organization_id\": 1713, \"cards_created\": 1379, \"cards_finished\": 1259, \"cards_connected\": 478, \"automation_jobs\": 811, \"email_templates_sent\": 613}, {\"date\": \"2020-09-24T00:00:00\", \"organization_id\": 1680, \"cards_created\": 1323, \"cards_finished\": 1251, \"cards_connected\": 480, \"automation_jobs\": 805, \"email_templates_sent\": 610}, {\"date\": \"2020-09-25T00:00:00\", \"organization_id\": 1655, \"cards_created\": 1319, \"cards_finished\": 1214, \"cards_connected\": 472, \"automation_jobs\": 815, \"email_templates_sent\": 591}, {\"date\": \"2020-09-28T00:00:00\", \"organization_id\": 1749, \"cards_created\": 1396, \"cards_finished\": 1243, \"cards_connected\": 480, \"automation_jobs\": 887, \"email_templates_sent\": 611}, {\"date\": \"2020-09-29T00:00:00\", \"organization_id\": 1731, \"cards_created\": 1406, \"cards_finished\": 1278, \"cards_connected\": 489, \"automation_jobs\": 872, \"email_templates_sent\": 627}, {\"date\": \"2020-09-30T00:00:00\", \"organization_id\": 1676, \"cards_created\": 1353, \"cards_finished\": 1246, \"cards_connected\": 478, \"automation_jobs\": 828, \"email_templates_sent\": 634}, {\"date\": \"2020-10-01T00:00:00\", \"organization_id\": 1267, \"cards_created\": 822, \"cards_finished\": 715, \"cards_connected\": 485, \"automation_jobs\": 678, \"email_templates_sent\": 397}, {\"date\": \"2020-10-02T00:00:00\", \"organization_id\": 1657, \"cards_created\": 1313, \"cards_finished\": 1188, \"cards_connected\": 451, \"automation_jobs\": 832, \"email_templates_sent\": 580}, {\"date\": \"2020-10-05T00:00:00\", \"organization_id\": 1768, \"cards_created\": 1412, \"cards_finished\": 1261, \"cards_connected\": 478, \"automation_jobs\": 907, \"email_templates_sent\": 619}, {\"date\": \"2020-10-06T00:00:00\", \"organization_id\": 1722, \"cards_created\": 1399, \"cards_finished\": 1263, \"cards_connected\": 475, \"automation_jobs\": 859, \"email_templates_sent\": 625}, {\"date\": \"2020-10-07T00:00:00\", \"organization_id\": 1701, \"cards_created\": 1368, \"cards_finished\": 1234, \"cards_connected\": 472, \"automation_jobs\": 840, \"email_templates_sent\": 556}, {\"date\": \"2020-10-08T00:00:00\", \"organization_id\": 1697, \"cards_created\": 1370, \"cards_finished\": 1247, \"cards_connected\": 493, \"automation_jobs\": 857, \"email_templates_sent\": 601}, {\"date\": \"2020-10-09T00:00:00\", \"organization_id\": 1636, \"cards_created\": 1294, \"cards_finished\": 1189, \"cards_connected\": 467, \"automation_jobs\": 841, \"email_templates_sent\": 541}, {\"date\": \"2020-10-12T00:00:00\", \"organization_id\": 1106, \"cards_created\": 792, \"cards_finished\": 510, \"cards_connected\": 175, \"automation_jobs\": 644, \"email_templates_sent\": 283}, {\"date\": \"2020-10-13T00:00:00\", \"organization_id\": 1689, \"cards_created\": 1361, \"cards_finished\": 1255, \"cards_connected\": 484, \"automation_jobs\": 850, \"email_templates_sent\": 620}, {\"date\": \"2020-10-14T00:00:00\", \"organization_id\": 1736, \"cards_created\": 1405, \"cards_finished\": 1277, \"cards_connected\": 498, \"automation_jobs\": 863, \"email_templates_sent\": 626}, {\"date\": \"2020-10-15T00:00:00\", \"organization_id\": 1687, \"cards_created\": 1360, \"cards_finished\": 1228, \"cards_connected\": 494, \"automation_jobs\": 881, \"email_templates_sent\": 614}, {\"date\": \"2020-10-16T00:00:00\", \"organization_id\": 1647, \"cards_created\": 1310, \"cards_finished\": 1190, \"cards_connected\": 460, \"automation_jobs\": 856, \"email_templates_sent\": 584}, {\"date\": \"2020-10-19T00:00:00\", \"organization_id\": 1760, \"cards_created\": 1424, \"cards_finished\": 1255, \"cards_connected\": 489, \"automation_jobs\": 913, \"email_templates_sent\": 607}, {\"date\": \"2020-10-20T00:00:00\", \"organization_id\": 1732, \"cards_created\": 1397, \"cards_finished\": 1267, \"cards_connected\": 504, \"automation_jobs\": 870, \"email_templates_sent\": 627}, {\"date\": \"2020-10-21T00:00:00\", \"organization_id\": 1278, \"cards_created\": 829, \"cards_finished\": 727, \"cards_connected\": 507, \"automation_jobs\": 624, \"email_templates_sent\": 358}, {\"date\": \"2020-10-22T00:00:00\", \"organization_id\": 1711, \"cards_created\": 1353, \"cards_finished\": 1252, \"cards_connected\": 500, \"automation_jobs\": 855, \"email_templates_sent\": 613}, {\"date\": \"2020-10-23T00:00:00\", \"organization_id\": 1695, \"cards_created\": 1380, \"cards_finished\": 1221, \"cards_connected\": 473, \"automation_jobs\": 856, \"email_templates_sent\": 601}, {\"date\": \"2020-10-26T00:00:00\", \"organization_id\": 1842, \"cards_created\": 1504, \"cards_finished\": 1320, \"cards_connected\": 518, \"automation_jobs\": 923, \"email_templates_sent\": 627}, {\"date\": \"2020-10-27T00:00:00\", \"organization_id\": 1763, \"cards_created\": 1429, \"cards_finished\": 1294, \"cards_connected\": 503, \"automation_jobs\": 875, \"email_templates_sent\": 642}, {\"date\": \"2020-10-28T00:00:00\", \"organization_id\": 1723, \"cards_created\": 1371, \"cards_finished\": 1259, \"cards_connected\": 495, \"automation_jobs\": 858, \"email_templates_sent\": 610}, {\"date\": \"2020-10-29T00:00:00\", \"organization_id\": 1757, \"cards_created\": 1400, \"cards_finished\": 1271, \"cards_connected\": 495, \"automation_jobs\": 867, \"email_templates_sent\": 612}, {\"date\": \"2020-10-30T00:00:00\", \"organization_id\": 1580, \"cards_created\": 1217, \"cards_finished\": 1086, \"cards_connected\": 478, \"automation_jobs\": 826, \"email_templates_sent\": 561}, {\"date\": \"2020-11-02T00:00:00\", \"organization_id\": 1143, \"cards_created\": 812, \"cards_finished\": 551, \"cards_connected\": 183, \"automation_jobs\": 673, \"email_templates_sent\": 307}, {\"date\": \"2020-11-03T00:00:00\", \"organization_id\": 1768, \"cards_created\": 1408, \"cards_finished\": 1309, \"cards_connected\": 503, \"automation_jobs\": 870, \"email_templates_sent\": 604}, {\"date\": \"2020-11-04T00:00:00\", \"organization_id\": 1421, \"cards_created\": 1054, \"cards_finished\": 912, \"cards_connected\": 496, \"automation_jobs\": 744, \"email_templates_sent\": 474}, {\"date\": \"2020-11-05T00:00:00\", \"organization_id\": 1716, \"cards_created\": 1366, \"cards_finished\": 1242, \"cards_connected\": 499, \"automation_jobs\": 886, \"email_templates_sent\": 628}, {\"date\": \"2020-11-06T00:00:00\", \"organization_id\": 1485, \"cards_created\": 1108, \"cards_finished\": 978, \"cards_connected\": 484, \"automation_jobs\": 783, \"email_templates_sent\": 534}, {\"date\": \"2020-11-09T00:00:00\", \"organization_id\": 1823, \"cards_created\": 1462, \"cards_finished\": 1299, \"cards_connected\": 522, \"automation_jobs\": 954, \"email_templates_sent\": 635}, {\"date\": \"2020-11-10T00:00:00\", \"organization_id\": 1726, \"cards_created\": 1387, \"cards_finished\": 1267, \"cards_connected\": 501, \"automation_jobs\": 904, \"email_templates_sent\": 621}, {\"date\": \"2020-11-11T00:00:00\", \"organization_id\": 1731, \"cards_created\": 1408, \"cards_finished\": 1245, \"cards_connected\": 516, \"automation_jobs\": 895, \"email_templates_sent\": 606}, {\"date\": \"2020-11-12T00:00:00\", \"organization_id\": 1696, \"cards_created\": 1360, \"cards_finished\": 1232, \"cards_connected\": 490, \"automation_jobs\": 892, \"email_templates_sent\": 602}, {\"date\": \"2020-11-13T00:00:00\", \"organization_id\": 1687, \"cards_created\": 1365, \"cards_finished\": 1177, \"cards_connected\": 486, \"automation_jobs\": 887, \"email_templates_sent\": 640}, {\"date\": \"2020-11-16T00:00:00\", \"organization_id\": 1728, \"cards_created\": 1366, \"cards_finished\": 1186, \"cards_connected\": 520, \"automation_jobs\": 921, \"email_templates_sent\": 594}, {\"date\": \"2020-11-17T00:00:00\", \"organization_id\": 1735, \"cards_created\": 1379, \"cards_finished\": 1273, \"cards_connected\": 501, \"automation_jobs\": 878, \"email_templates_sent\": 631}, {\"date\": \"2020-11-18T00:00:00\", \"organization_id\": 1749, \"cards_created\": 1391, \"cards_finished\": 1273, \"cards_connected\": 517, \"automation_jobs\": 880, \"email_templates_sent\": 620}, {\"date\": \"2020-11-19T00:00:00\", \"organization_id\": 1693, \"cards_created\": 1344, \"cards_finished\": 1230, \"cards_connected\": 490, \"automation_jobs\": 876, \"email_templates_sent\": 603}, {\"date\": \"2020-11-20T00:00:00\", \"organization_id\": 1608, \"cards_created\": 1271, \"cards_finished\": 1105, \"cards_connected\": 429, \"automation_jobs\": 860, \"email_templates_sent\": 563}, {\"date\": \"2020-11-23T00:00:00\", \"organization_id\": 1830, \"cards_created\": 1445, \"cards_finished\": 1296, \"cards_connected\": 496, \"automation_jobs\": 968, \"email_templates_sent\": 629}, {\"date\": \"2020-11-24T00:00:00\", \"organization_id\": 1762, \"cards_created\": 1401, \"cards_finished\": 1265, \"cards_connected\": 507, \"automation_jobs\": 894, \"email_templates_sent\": 633}, {\"date\": \"2020-11-25T00:00:00\", \"organization_id\": 1753, \"cards_created\": 1417, \"cards_finished\": 1234, \"cards_connected\": 503, \"automation_jobs\": 900, \"email_templates_sent\": 638}, {\"date\": \"2020-11-26T00:00:00\", \"organization_id\": 1659, \"cards_created\": 1333, \"cards_finished\": 1202, \"cards_connected\": 477, \"automation_jobs\": 866, \"email_templates_sent\": 603}, {\"date\": \"2020-11-27T00:00:00\", \"organization_id\": 1618, \"cards_created\": 1271, \"cards_finished\": 1130, \"cards_connected\": 478, \"automation_jobs\": 872, \"email_templates_sent\": 578}, {\"date\": \"2020-11-30T00:00:00\", \"organization_id\": 1789, \"cards_created\": 1460, \"cards_finished\": 1250, \"cards_connected\": 483, \"automation_jobs\": 969, \"email_templates_sent\": 621}, {\"date\": \"2020-12-01T00:00:00\", \"organization_id\": 923, \"cards_created\": 431, \"cards_finished\": 264, \"cards_connected\": 518, \"automation_jobs\": 405, \"email_templates_sent\": 163}, {\"date\": \"2020-12-02T00:00:00\", \"organization_id\": 1739, \"cards_created\": 1387, \"cards_finished\": 1262, \"cards_connected\": 517, \"automation_jobs\": 906, \"email_templates_sent\": 636}, {\"date\": \"2020-12-03T00:00:00\", \"organization_id\": 1373, \"cards_created\": 965, \"cards_finished\": 882, \"cards_connected\": 506, \"automation_jobs\": 756, \"email_templates_sent\": 464}, {\"date\": \"2020-12-04T00:00:00\", \"organization_id\": 1684, \"cards_created\": 1326, \"cards_finished\": 1208, \"cards_connected\": 488, \"automation_jobs\": 890, \"email_templates_sent\": 590}, {\"date\": \"2020-12-07T00:00:00\", \"organization_id\": 1794, \"cards_created\": 1456, \"cards_finished\": 1246, \"cards_connected\": 506, \"automation_jobs\": 997, \"email_templates_sent\": 640}, {\"date\": \"2020-12-08T00:00:00\", \"organization_id\": 1651, \"cards_created\": 1304, \"cards_finished\": 1155, \"cards_connected\": 461, \"automation_jobs\": 885, \"email_templates_sent\": 602}, {\"date\": \"2020-12-09T00:00:00\", \"organization_id\": 1724, \"cards_created\": 1396, \"cards_finished\": 1249, \"cards_connected\": 494, \"automation_jobs\": 911, \"email_templates_sent\": 612}, {\"date\": \"2020-12-10T00:00:00\", \"organization_id\": 1732, \"cards_created\": 1394, \"cards_finished\": 1272, \"cards_connected\": 495, \"automation_jobs\": 926, \"email_templates_sent\": 604}, {\"date\": \"2020-12-11T00:00:00\", \"organization_id\": 1678, \"cards_created\": 1325, \"cards_finished\": 1188, \"cards_connected\": 484, \"automation_jobs\": 892, \"email_templates_sent\": 597}, {\"date\": \"2020-12-14T00:00:00\", \"organization_id\": 1779, \"cards_created\": 1435, \"cards_finished\": 1243, \"cards_connected\": 506, \"automation_jobs\": 989, \"email_templates_sent\": 635}, {\"date\": \"2020-12-15T00:00:00\", \"organization_id\": 1735, \"cards_created\": 1380, \"cards_finished\": 1243, \"cards_connected\": 509, \"automation_jobs\": 944, \"email_templates_sent\": 633}, {\"date\": \"2020-12-16T00:00:00\", \"organization_id\": 1687, \"cards_created\": 1321, \"cards_finished\": 1211, \"cards_connected\": 502, \"automation_jobs\": 902, \"email_templates_sent\": 634}, {\"date\": \"2020-12-17T00:00:00\", \"organization_id\": 1690, \"cards_created\": 1326, \"cards_finished\": 1225, \"cards_connected\": 472, \"automation_jobs\": 901, \"email_templates_sent\": 610}, {\"date\": \"2020-12-18T00:00:00\", \"organization_id\": 1582, \"cards_created\": 1241, \"cards_finished\": 1101, \"cards_connected\": 442, \"automation_jobs\": 894, \"email_templates_sent\": 597}, {\"date\": \"2020-12-21T00:00:00\", \"organization_id\": 1586, \"cards_created\": 1243, \"cards_finished\": 1027, \"cards_connected\": 437, \"automation_jobs\": 919, \"email_templates_sent\": 563}, {\"date\": \"2020-12-22T00:00:00\", \"organization_id\": 1484, \"cards_created\": 1143, \"cards_finished\": 1029, \"cards_connected\": 446, \"automation_jobs\": 838, \"email_templates_sent\": 550}, {\"date\": \"2020-12-23T00:00:00\", \"organization_id\": 1416, \"cards_created\": 1097, \"cards_finished\": 928, \"cards_connected\": 410, \"automation_jobs\": 819, \"email_templates_sent\": 532}, {\"date\": \"2020-12-24T00:00:00\", \"organization_id\": 967, \"cards_created\": 670, \"cards_finished\": 464, \"cards_connected\": 202, \"automation_jobs\": 637, \"email_templates_sent\": 285}, {\"date\": \"2020-12-25T00:00:00\", \"organization_id\": 690, \"cards_created\": 427, \"cards_finished\": 158, \"cards_connected\": 76, \"automation_jobs\": 526, \"email_templates_sent\": 136}, {\"date\": \"2020-12-28T00:00:00\", \"organization_id\": 1377, \"cards_created\": 1067, \"cards_finished\": 830, \"cards_connected\": 356, \"automation_jobs\": 843, \"email_templates_sent\": 471}, {\"date\": \"2020-12-29T00:00:00\", \"organization_id\": 1288, \"cards_created\": 990, \"cards_finished\": 827, \"cards_connected\": 336, \"automation_jobs\": 762, \"email_templates_sent\": 450}, {\"date\": \"2020-12-30T00:00:00\", \"organization_id\": 1193, \"cards_created\": 894, \"cards_finished\": 718, \"cards_connected\": 308, \"automation_jobs\": 725, \"email_templates_sent\": 411}, {\"date\": \"2020-12-31T00:00:00\", \"organization_id\": 909, \"cards_created\": 616, \"cards_finished\": 406, \"cards_connected\": 160, \"automation_jobs\": 615, \"email_templates_sent\": 264}]}}, {\"mode\": \"vega-lite\"});\n",
       "</script>"
      ],
      "text/plain": [
       "alt.Chart(...)"
      ]
     },
     "execution_count": 11,
     "metadata": {},
     "output_type": "execute_result"
    }
   ],
   "source": [
    "daily_active_orgs"
   ]
  },
  {
   "cell_type": "markdown",
   "metadata": {},
   "source": [
    "* The number of active organizations gradually rose through 2020, but dipped off around the Northern Hemisphere's Winter holidays when less people are working\n",
    "* This increase in active users could suggest that:\n",
    "    * The product has a solid core group of customers who were using the products throughout 2020\n",
    "    * The growing customer base (new customers and expansions) has meant that despite churn being higher than expected, the number of users of the product are continuing to increase  "
   ]
  },
  {
   "cell_type": "markdown",
   "metadata": {},
   "source": [
    "# Areas for Further Investigation"
   ]
  },
  {
   "cell_type": "markdown",
   "metadata": {},
   "source": [
    "* Analyze the behavior of individual users rather than organizations as a whole\n",
    "    * Consideration of letting your team members see how users interact with the product step-by-step\n",
    "* Talk to CSM teams to see what customers find most value in\n",
    "* Try to find ways to increase the daily active users of the product to decrease retention\n",
    "* Continue to collect data and monitor trends in customer retention\n",
    "* Create cohort analyses, determine customer lifetime values, conduct 'Survival Analysis'"
   ]
  },
  {
   "cell_type": "code",
   "execution_count": null,
   "metadata": {},
   "outputs": [],
   "source": []
  }
 ],
 "metadata": {
  "kernelspec": {
   "display_name": "Python 3",
   "language": "python",
   "name": "python3"
  },
  "language_info": {
   "codemirror_mode": {
    "name": "ipython",
    "version": 3
   },
   "file_extension": ".py",
   "mimetype": "text/x-python",
   "name": "python",
   "nbconvert_exporter": "python",
   "pygments_lexer": "ipython3",
   "version": "3.7.6"
  }
 },
 "nbformat": 4,
 "nbformat_minor": 4
}
